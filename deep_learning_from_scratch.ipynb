{
 "cells": [
  {
   "cell_type": "code",
   "execution_count": 3,
   "metadata": {},
   "outputs": [],
   "source": [
    "def AND(x1, x2):\n",
    "    w1, w2, theta = 0.5, 0.5, 0.7\n",
    "    tmp = x1*w1 + x2*w2\n",
    "    if tmp <= theta:\n",
    "        return 0\n",
    "    elif tmp > theta:\n",
    "        return 1"
   ]
  },
  {
   "cell_type": "code",
   "execution_count": 4,
   "metadata": {},
   "outputs": [
    {
     "name": "stdout",
     "output_type": "stream",
     "text": [
      "0\n",
      "0\n",
      "0\n",
      "1\n"
     ]
    }
   ],
   "source": [
    "print(AND(0, 0)) # 输出0\n",
    "print(AND(1, 0)) # 输出0\n",
    "print(AND(0, 1)) # 输出0\n",
    "print(AND(1, 1)) # 输出1"
   ]
  },
  {
   "cell_type": "code",
   "execution_count": 5,
   "metadata": {},
   "outputs": [
    {
     "name": "stdout",
     "output_type": "stream",
     "text": [
      "[0.  0.5]\n",
      "0.5\n",
      "-0.19999999999999996\n"
     ]
    }
   ],
   "source": [
    "import numpy as np\n",
    "x = np.array([0, 1])\n",
    "w = np.array([0.5, 0.5])\n",
    "b = -0.7\n",
    "print(w*x)\n",
    "print(np.sum(w*x))\n",
    "print(np.sum(w*x) + b)"
   ]
  },
  {
   "cell_type": "code",
   "execution_count": 6,
   "metadata": {},
   "outputs": [],
   "source": [
    "def AND(x1, x2):\n",
    "    x = np.array([x1, x2])\n",
    "    w = np.array([0.5, 0.5])\n",
    "    b = -0.7\n",
    "    tmp = np.sum(w*x) + b\n",
    "    if tmp <= 0:\n",
    "        return 0\n",
    "    else:\n",
    "        return 1\n",
    "    \n",
    "def NAND(x1, x2):\n",
    "    x = np.array([x1, x2])\n",
    "    w = np.array([-0.5, -0.5])\n",
    "    b = 0.7\n",
    "    tmp = np.sum(w*x) + b\n",
    "    if tmp <= 0:\n",
    "        return 0\n",
    "    else:\n",
    "        return 1\n",
    "    \n",
    "def OR(x1, x2):\n",
    "    x = np.array([x1, x2])\n",
    "    w = np.array([0.5, 0.5]) # 仅权重和偏置与AND不同！\n",
    "    b = -0.2\n",
    "    tmp = np.sum(w*x) + b\n",
    "    if tmp <= 0:\n",
    "        return 0\n",
    "    else:\n",
    "        return 1\n",
    "    \n",
    "def XOR(x1, x2):\n",
    "    s1 = NAND(x1, x2)\n",
    "    s2 = OR(x1, x2)\n",
    "    y = AND(s1, s2)\n",
    "    return y"
   ]
  },
  {
   "cell_type": "code",
   "execution_count": 7,
   "metadata": {},
   "outputs": [
    {
     "name": "stdout",
     "output_type": "stream",
     "text": [
      "0\n",
      "1\n",
      "1\n",
      "0\n"
     ]
    }
   ],
   "source": [
    "print(XOR(0, 0)) # 输出0\n",
    "print(XOR(1, 0)) # 输出1\n",
    "print(XOR(0, 1)) # 输出1\n",
    "print(XOR(1, 1)) # 输出0"
   ]
  },
  {
   "attachments": {},
   "cell_type": "markdown",
   "metadata": {},
   "source": [
    "## Chapter 3"
   ]
  },
  {
   "cell_type": "code",
   "execution_count": 8,
   "metadata": {},
   "outputs": [],
   "source": [
    "def step_function(x):\n",
    "    y = x > 0\n",
    "    return y.astype(np.int)"
   ]
  },
  {
   "cell_type": "code",
   "execution_count": 9,
   "metadata": {},
   "outputs": [
    {
     "data": {
      "text/plain": [
       "array([-1.,  1.,  2.])"
      ]
     },
     "execution_count": 9,
     "metadata": {},
     "output_type": "execute_result"
    }
   ],
   "source": [
    "import numpy as np\n",
    "x = np.array([-1.0, 1.0, 2.0])\n",
    "x"
   ]
  },
  {
   "cell_type": "code",
   "execution_count": 10,
   "metadata": {},
   "outputs": [
    {
     "data": {
      "text/plain": [
       "array([False,  True,  True])"
      ]
     },
     "execution_count": 10,
     "metadata": {},
     "output_type": "execute_result"
    }
   ],
   "source": [
    "y = x > 0\n",
    "y"
   ]
  },
  {
   "cell_type": "code",
   "execution_count": 11,
   "metadata": {},
   "outputs": [
    {
     "data": {
      "text/plain": [
       "array([0, 1, 1])"
      ]
     },
     "execution_count": 11,
     "metadata": {},
     "output_type": "execute_result"
    }
   ],
   "source": [
    "y = y.astype(int)\n",
    "y"
   ]
  },
  {
   "attachments": {},
   "cell_type": "markdown",
   "metadata": {},
   "source": [
    "### 　阶跃函数的图形"
   ]
  },
  {
   "cell_type": "code",
   "execution_count": 12,
   "metadata": {},
   "outputs": [
    {
     "data": {
      "image/png": "[encoded data removed]",
      "text/plain": [
       "<Figure size 640x480 with 1 Axes>"
      ]
     },
     "metadata": {},
     "output_type": "display_data"
    }
   ],
   "source": [
    "import numpy as np\n",
    "import matplotlib.pylab as plt\n",
    "def step_function(x):\n",
    "    return np.array(x > 0, dtype=int)\n",
    "x = np.arange(-5.0, 5.0, 0.1)\n",
    "y = step_function(x)\n",
    "plt.plot(x, y)\n",
    "plt.ylim(-0.1, 1.1) # 指定y轴的范围\n",
    "plt.show()"
   ]
  },
  {
   "attachments": {},
   "cell_type": "markdown",
   "metadata": {},
   "source": [
    "### sigmoid函数的实现"
   ]
  },
  {
   "cell_type": "code",
   "execution_count": 13,
   "metadata": {},
   "outputs": [],
   "source": [
    "def sigmoid(x):\n",
    "    return 1 / (1 + np.exp(-x))"
   ]
  },
  {
   "cell_type": "code",
   "execution_count": 14,
   "metadata": {},
   "outputs": [
    {
     "data": {
      "text/plain": [
       "array([0.26894142, 0.73105858, 0.88079708])"
      ]
     },
     "execution_count": 14,
     "metadata": {},
     "output_type": "execute_result"
    }
   ],
   "source": [
    "x = np.array([-1.0, 1.0, 2.0])\n",
    "sigmoid(x)"
   ]
  },
  {
   "cell_type": "code",
   "execution_count": 15,
   "metadata": {},
   "outputs": [
    {
     "data": {
      "text/plain": [
       "array([2., 3., 4.])"
      ]
     },
     "execution_count": 15,
     "metadata": {},
     "output_type": "execute_result"
    }
   ],
   "source": [
    "t = np.array([1.0, 2.0, 3.0])\n",
    "1.0 + t"
   ]
  },
  {
   "cell_type": "code",
   "execution_count": 16,
   "metadata": {},
   "outputs": [
    {
     "data": {
      "text/plain": [
       "array([1.        , 0.5       , 0.33333333])"
      ]
     },
     "execution_count": 16,
     "metadata": {},
     "output_type": "execute_result"
    }
   ],
   "source": [
    "1.0 / t"
   ]
  },
  {
   "cell_type": "code",
   "execution_count": 17,
   "metadata": {},
   "outputs": [
    {
     "data": {
      "image/png": "[encoded data removed]",
      "text/plain": [
       "<Figure size 640x480 with 1 Axes>"
      ]
     },
     "metadata": {},
     "output_type": "display_data"
    }
   ],
   "source": [
    "x = np.arange(-5.0, 5.0, 0.1)\n",
    "y = sigmoid(x)\n",
    "plt.plot(x, y)\n",
    "plt.ylim(-0.1, 1.1) # 指定y轴的范围\n",
    "plt.show()"
   ]
  },
  {
   "attachments": {},
   "cell_type": "markdown",
   "metadata": {},
   "source": [
    "### ReLU函数"
   ]
  },
  {
   "cell_type": "code",
   "execution_count": 18,
   "metadata": {},
   "outputs": [],
   "source": [
    "def relu(x):\n",
    "    return np.maximum(0, x)"
   ]
  },
  {
   "attachments": {},
   "cell_type": "markdown",
   "metadata": {},
   "source": [
    "## 多维数组的运算"
   ]
  },
  {
   "cell_type": "code",
   "execution_count": 20,
   "metadata": {},
   "outputs": [
    {
     "name": "stdout",
     "output_type": "stream",
     "text": [
      "[1 2 3 4]\n"
     ]
    }
   ],
   "source": [
    "import numpy as np\n",
    "A = np.array([1, 2, 3, 4])\n",
    "print(A)"
   ]
  },
  {
   "cell_type": "code",
   "execution_count": 21,
   "metadata": {},
   "outputs": [
    {
     "data": {
      "text/plain": [
       "1"
      ]
     },
     "execution_count": 21,
     "metadata": {},
     "output_type": "execute_result"
    }
   ],
   "source": [
    "np.ndim(A)"
   ]
  },
  {
   "cell_type": "code",
   "execution_count": 22,
   "metadata": {},
   "outputs": [
    {
     "data": {
      "text/plain": [
       "(4,)"
      ]
     },
     "execution_count": 22,
     "metadata": {},
     "output_type": "execute_result"
    }
   ],
   "source": [
    "A.shape"
   ]
  },
  {
   "cell_type": "code",
   "execution_count": 23,
   "metadata": {},
   "outputs": [
    {
     "data": {
      "text/plain": [
       "4"
      ]
     },
     "execution_count": 23,
     "metadata": {},
     "output_type": "execute_result"
    }
   ],
   "source": [
    "A.shape[0]"
   ]
  },
  {
   "cell_type": "code",
   "execution_count": 27,
   "metadata": {},
   "outputs": [
    {
     "name": "stdout",
     "output_type": "stream",
     "text": [
      "[[1 2]\n",
      " [3 4]\n",
      " [5 6]]\n"
     ]
    }
   ],
   "source": [
    "B = np.array([[1,2], [3,4], [5,6]])\n",
    "print(B)"
   ]
  },
  {
   "cell_type": "code",
   "execution_count": 28,
   "metadata": {},
   "outputs": [
    {
     "data": {
      "text/plain": [
       "2"
      ]
     },
     "execution_count": 28,
     "metadata": {},
     "output_type": "execute_result"
    }
   ],
   "source": [
    "np.ndim(B)"
   ]
  },
  {
   "cell_type": "code",
   "execution_count": 26,
   "metadata": {},
   "outputs": [
    {
     "data": {
      "text/plain": [
       "(3, 2)"
      ]
     },
     "execution_count": 26,
     "metadata": {},
     "output_type": "execute_result"
    }
   ],
   "source": [
    "B.shape"
   ]
  },
  {
   "attachments": {},
   "cell_type": "markdown",
   "metadata": {},
   "source": [
    "### 矩阵乘法"
   ]
  },
  {
   "cell_type": "code",
   "execution_count": 29,
   "metadata": {},
   "outputs": [
    {
     "name": "stdout",
     "output_type": "stream",
     "text": [
      "(2, 2)\n",
      "(2, 2)\n"
     ]
    },
    {
     "data": {
      "text/plain": [
       "array([[19, 22],\n",
       "       [43, 50]])"
      ]
     },
     "execution_count": 29,
     "metadata": {},
     "output_type": "execute_result"
    }
   ],
   "source": [
    "# 2 × 2 矩 阵\n",
    "\n",
    "A = np.array([[1,2], [3,4]])\n",
    "print(A.shape)\n",
    "\n",
    "B = np.array([[5,6], [7,8]])\n",
    "print(B.shape)\n",
    "\n",
    "np.dot(A, B)"
   ]
  },
  {
   "cell_type": "code",
   "execution_count": 30,
   "metadata": {},
   "outputs": [
    {
     "name": "stdout",
     "output_type": "stream",
     "text": [
      "(2, 3)\n",
      "(3, 2)\n"
     ]
    },
    {
     "data": {
      "text/plain": [
       "array([[22, 28],\n",
       "       [49, 64]])"
      ]
     },
     "execution_count": 30,
     "metadata": {},
     "output_type": "execute_result"
    }
   ],
   "source": [
    "# 2 × 3的矩阵和 3 × 2 的矩阵的乘积\n",
    "\n",
    "A = np.array([[1,2,3], [4,5,6]])\n",
    "print(A.shape)\n",
    "\n",
    "B = np.array([[1,2], [3,4], [5,6]])\n",
    "print(B.shape)\n",
    "\n",
    "np.dot(A, B)"
   ]
  },
  {
   "cell_type": "code",
   "execution_count": 31,
   "metadata": {},
   "outputs": [
    {
     "name": "stdout",
     "output_type": "stream",
     "text": [
      "(3, 2)\n",
      "(2,)\n"
     ]
    },
    {
     "data": {
      "text/plain": [
       "array([23, 53, 83])"
      ]
     },
     "execution_count": 31,
     "metadata": {},
     "output_type": "execute_result"
    }
   ],
   "source": [
    "# 当A是二维矩阵、B是一维数组时，对应维度的元素个数要保持一致的原则依然成立。\n",
    "\n",
    "A = np.array([[1,2], [3, 4], [5,6]])\n",
    "print(A.shape)\n",
    "\n",
    "B = np.array([7,8])\n",
    "print(B.shape)\n",
    "\n",
    "np.dot(A, B)"
   ]
  },
  {
   "attachments": {},
   "cell_type": "markdown",
   "metadata": {},
   "source": [
    "### 神经网络的内积"
   ]
  },
  {
   "cell_type": "code",
   "execution_count": 32,
   "metadata": {},
   "outputs": [
    {
     "name": "stdout",
     "output_type": "stream",
     "text": [
      "(2,)\n",
      "[[1 3 5]\n",
      " [2 4 6]]\n",
      "(2, 3)\n",
      "[ 5 11 17]\n"
     ]
    }
   ],
   "source": [
    "X = np.array([1, 2])\n",
    "print(X.shape)\n",
    "\n",
    "W = np.array([[1, 3, 5], [2, 4, 6]])\n",
    "print(W)\n",
    "print(W.shape)\n",
    "\n",
    "Y = np.dot(X, W)\n",
    "print(Y)"
   ]
  },
  {
   "attachments": {},
   "cell_type": "markdown",
   "metadata": {},
   "source": [
    "## 3层神经网络的实现"
   ]
  },
  {
   "cell_type": "code",
   "execution_count": 35,
   "metadata": {},
   "outputs": [
    {
     "name": "stdout",
     "output_type": "stream",
     "text": [
      "(2, 3)\n",
      "(2,)\n",
      "(3,)\n",
      "(3,)\n",
      "[0.3 0.7 1.1]\n",
      "[0.57444252 0.66818777 0.75026011]\n"
     ]
    }
   ],
   "source": [
    "X = np.array([1.0, 0.5])\n",
    "W1 = np.array([[0.1, 0.3, 0.5], [0.2, 0.4, 0.6]])\n",
    "B1 = np.array([0.1, 0.2, 0.3])\n",
    "print(W1.shape) # (2, 3)\n",
    "print(X.shape) # (2,)\n",
    "print(B1.shape) # (3,)\n",
    "A1 = np.dot(X, W1) + B1\n",
    "print(A1.shape)\n",
    "print(A1)\n",
    "\n",
    "Z1 = sigmoid(A1)\n",
    "print(Z1)"
   ]
  },
  {
   "cell_type": "code",
   "execution_count": 36,
   "metadata": {},
   "outputs": [
    {
     "name": "stdout",
     "output_type": "stream",
     "text": [
      "(3,)\n",
      "(3, 2)\n",
      "(2,)\n",
      "(2,)\n",
      "[0.62624937 0.7710107 ]\n"
     ]
    }
   ],
   "source": [
    "W2 = np.array([[0.1, 0.4], [0.2, 0.5], [0.3, 0.6]])\n",
    "B2 = np.array([0.1, 0.2])\n",
    "print(Z1.shape) # (3,)\n",
    "print(W2.shape) # (3, 2)\n",
    "print(B2.shape) # (2,)\n",
    "A2 = np.dot(Z1, W2) + B2\n",
    "Z2 = sigmoid(A2)\n",
    "print(Z2.shape)\n",
    "print(Z2)"
   ]
  },
  {
   "cell_type": "code",
   "execution_count": 37,
   "metadata": {},
   "outputs": [
    {
     "name": "stdout",
     "output_type": "stream",
     "text": [
      "(2,)\n",
      "[0.31682708 0.69627909]\n"
     ]
    }
   ],
   "source": [
    "def identity_function(x):\n",
    "    return x\n",
    "\n",
    "W3 = np.array([[0.1, 0.3], [0.2, 0.4]])\n",
    "B3 = np.array([0.1, 0.2])\n",
    "A3 = np.dot(Z2, W3) + B3\n",
    "Y = identity_function(A3) # 或者Y = A3\n",
    "\n",
    "print(Y.shape)\n",
    "print(Y)"
   ]
  },
  {
   "attachments": {},
   "cell_type": "markdown",
   "metadata": {},
   "source": [
    "### 神经网络代码实现小结"
   ]
  },
  {
   "cell_type": "code",
   "execution_count": 38,
   "metadata": {},
   "outputs": [
    {
     "name": "stdout",
     "output_type": "stream",
     "text": [
      "[0.31682708 0.69627909]\n"
     ]
    }
   ],
   "source": [
    "def init_network():\n",
    "    network = {}\n",
    "    network['W1'] = np.array([[0.1, 0.3, 0.5], [0.2, 0.4, 0.6]])\n",
    "    network['b1'] = np.array([0.1, 0.2, 0.3])\n",
    "    network['W2'] = np.array([[0.1, 0.4], [0.2, 0.5], [0.3, 0.6]])\n",
    "    network['b2'] = np.array([0.1, 0.2])\n",
    "    network['W3'] = np.array([[0.1, 0.3], [0.2, 0.4]])\n",
    "    network['b3'] = np.array([0.1, 0.2])\n",
    "    return network\n",
    "\n",
    "def forward(network, x):\n",
    "    W1, W2, W3 = network['W1'], network['W2'], network['W3']\n",
    "    b1, b2, b3 = network['b1'], network['b2'], network['b3']\n",
    "    a1 = np.dot(x, W1) + b1\n",
    "    z1 = sigmoid(a1)\n",
    "    a2 = np.dot(z1, W2) + b2\n",
    "    z2 = sigmoid(a2)\n",
    "    a3 = np.dot(z2, W3) + b3\n",
    "    y = identity_function(a3)\n",
    "    return y\n",
    "\n",
    "network = init_network()\n",
    "x = np.array([1.0, 0.5])\n",
    "y = forward(network, x)\n",
    "print(y) # [ 0.31682708 0.69627909]"
   ]
  },
  {
   "attachments": {},
   "cell_type": "markdown",
   "metadata": {},
   "source": [
    "## 输出层的设计"
   ]
  },
  {
   "attachments": {},
   "cell_type": "markdown",
   "metadata": {},
   "source": [
    "### 恒等函数和 softmax函数"
   ]
  },
  {
   "cell_type": "code",
   "execution_count": 39,
   "metadata": {},
   "outputs": [
    {
     "name": "stdout",
     "output_type": "stream",
     "text": [
      "[ 1.34985881 18.17414537 54.59815003]\n"
     ]
    }
   ],
   "source": [
    "a = np.array([0.3, 2.9, 4.0])\n",
    "exp_a = np.exp(a) # 指数函数\n",
    "print(exp_a)"
   ]
  },
  {
   "cell_type": "code",
   "execution_count": 40,
   "metadata": {},
   "outputs": [
    {
     "name": "stdout",
     "output_type": "stream",
     "text": [
      "74.1221542101633\n"
     ]
    }
   ],
   "source": [
    "sum_exp_a = np.sum(exp_a) # 指数函数的和\n",
    "print(sum_exp_a)"
   ]
  },
  {
   "cell_type": "code",
   "execution_count": 41,
   "metadata": {},
   "outputs": [
    {
     "data": {
      "text/plain": [
       "array([0.01821127, 0.24519181, 0.73659691])"
      ]
     },
     "execution_count": 41,
     "metadata": {},
     "output_type": "execute_result"
    }
   ],
   "source": [
    "y = exp_a / sum_exp_a\n",
    "y"
   ]
  },
  {
   "cell_type": "code",
   "execution_count": 42,
   "metadata": {},
   "outputs": [],
   "source": [
    "def softmax(a):\n",
    "    exp_a = np.exp(a)\n",
    "    sum_exp_a = np.sum(exp_a)\n",
    "    y = exp_a / sum_exp_a\n",
    "    return y\n"
   ]
  },
  {
   "attachments": {},
   "cell_type": "markdown",
   "metadata": {},
   "source": [
    "### 实现 softmax 函数时的注意事项"
   ]
  },
  {
   "cell_type": "code",
   "execution_count": 43,
   "metadata": {},
   "outputs": [
    {
     "name": "stderr",
     "output_type": "stream",
     "text": [
      "/var/folders/8n/hzxsnm0d1_lccvd_23y05p4r0000gn/T/ipykernel_23500/2687910328.py:2: RuntimeWarning: overflow encountered in exp\n",
      "  np.exp(a) / np.sum(np.exp(a)) # softmax函数的运算\n",
      "/var/folders/8n/hzxsnm0d1_lccvd_23y05p4r0000gn/T/ipykernel_23500/2687910328.py:2: RuntimeWarning: invalid value encountered in divide\n",
      "  np.exp(a) / np.sum(np.exp(a)) # softmax函数的运算\n"
     ]
    },
    {
     "data": {
      "text/plain": [
       "array([nan, nan, nan])"
      ]
     },
     "execution_count": 43,
     "metadata": {},
     "output_type": "execute_result"
    }
   ],
   "source": [
    "a = np.array([1010, 1000, 990])\n",
    "np.exp(a) / np.sum(np.exp(a)) # softmax函数的运算"
   ]
  },
  {
   "cell_type": "code",
   "execution_count": 44,
   "metadata": {},
   "outputs": [
    {
     "data": {
      "text/plain": [
       "array([9.99954600e-01, 4.53978686e-05, 2.06106005e-09])"
      ]
     },
     "execution_count": 44,
     "metadata": {},
     "output_type": "execute_result"
    }
   ],
   "source": [
    "c = np.max(a) # 1010\n",
    "a - c\n",
    "np.exp(a - c) / np.sum(np.exp(a - c))"
   ]
  },
  {
   "cell_type": "code",
   "execution_count": 46,
   "metadata": {},
   "outputs": [],
   "source": [
    "# 防止溢出\n",
    "def softmax(a):\n",
    "    c = np.max(a)\n",
    "    exp_a = np.exp(a - c) # 溢出对策\n",
    "    sum_exp_a = np.sum(exp_a)\n",
    "    y = exp_a / sum_exp_a\n",
    "    return y"
   ]
  },
  {
   "attachments": {},
   "cell_type": "markdown",
   "metadata": {},
   "source": [
    "### softmax函数的特征"
   ]
  },
  {
   "cell_type": "code",
   "execution_count": 47,
   "metadata": {},
   "outputs": [
    {
     "name": "stdout",
     "output_type": "stream",
     "text": [
      "[0.01821127 0.24519181 0.73659691]\n"
     ]
    }
   ],
   "source": [
    "a = np.array([0.3, 2.9, 4.0])\n",
    "y = softmax(a)\n",
    "print(y)"
   ]
  },
  {
   "cell_type": "code",
   "execution_count": 48,
   "metadata": {},
   "outputs": [
    {
     "data": {
      "text/plain": [
       "1.0"
      ]
     },
     "execution_count": 48,
     "metadata": {},
     "output_type": "execute_result"
    }
   ],
   "source": [
    "np.sum(y)"
   ]
  },
  {
   "attachments": {},
   "cell_type": "markdown",
   "metadata": {},
   "source": [
    "## 手写数字识别"
   ]
  },
  {
   "cell_type": "code",
   "execution_count": 2,
   "metadata": {},
   "outputs": [
    {
     "name": "stdout",
     "output_type": "stream",
     "text": [
      "Downloading train-images-idx3-ubyte.gz ... \n",
      "Done\n",
      "Downloading train-labels-idx1-ubyte.gz ... \n",
      "Done\n",
      "Downloading t10k-images-idx3-ubyte.gz ... \n",
      "Done\n",
      "Downloading t10k-labels-idx1-ubyte.gz ... \n",
      "Done\n",
      "Converting train-images-idx3-ubyte.gz to NumPy Array ...\n",
      "Done\n",
      "Converting train-labels-idx1-ubyte.gz to NumPy Array ...\n",
      "Done\n",
      "Converting t10k-images-idx3-ubyte.gz to NumPy Array ...\n",
      "Done\n",
      "Converting t10k-labels-idx1-ubyte.gz to NumPy Array ...\n",
      "Done\n",
      "Creating pickle file ...\n",
      "Done!\n",
      "(60000, 784)\n",
      "(60000,)\n",
      "(10000, 784)\n",
      "(10000,)\n"
     ]
    }
   ],
   "source": [
    "import sys, os\n",
    "sys.path.append(os.pardir) # 为了导入父目录中的文件而进行的设定\n",
    "from dataset.mnist import load_mnist\n",
    "\n",
    "# 第一次调用会花费几分钟 ……\n",
    "(x_train, t_train), (x_test, t_test) = load_mnist(flatten=True, normalize=False)\n",
    "\n",
    "# 输出各个数据的形状\n",
    "print(x_train.shape) # (60000, 784)\n",
    "print(t_train.shape) # (60000,)\n",
    "print(x_test.shape) # (10000, 784)\n",
    "print(t_test.shape) # (10000,)"
   ]
  },
  {
   "cell_type": "code",
   "execution_count": 5,
   "metadata": {},
   "outputs": [
    {
     "name": "stdout",
     "output_type": "stream",
     "text": [
      "5\n",
      "(784,)\n",
      "(28, 28)\n"
     ]
    }
   ],
   "source": [
    "import sys, os\n",
    "sys.path.append(os.pardir)\n",
    "import numpy as np\n",
    "from dataset.mnist import load_mnist\n",
    "from PIL import Image\n",
    "\n",
    "def img_show(img):\n",
    "    pil_img = Image.fromarray(np.uint8(img))\n",
    "    pil_img.show()\n",
    "\n",
    "(x_train, t_train), (x_test, t_test) = load_mnist(flatten=True, normalize=False)\n",
    "img = x_train[0]\n",
    "label = t_train[0]\n",
    "\n",
    "print(label) # 5\n",
    "print(img.shape) # (784,)\n",
    "\n",
    "img = img.reshape(28, 28) # 把图像的形状变成原来的尺寸\n",
    "print(img.shape) # (28, 28)\n",
    "img_show(img)"
   ]
  },
  {
   "attachments": {},
   "cell_type": "markdown",
   "metadata": {},
   "source": [
    "### 神经网络的推理处理"
   ]
  },
  {
   "cell_type": "code",
   "execution_count": 12,
   "metadata": {},
   "outputs": [],
   "source": [
    "import pickle\n",
    "\n",
    "def softmax(a):\n",
    "    c = np.max(a)\n",
    "    exp_a = np.exp(a - c) # 溢出对策\n",
    "    sum_exp_a = np.sum(exp_a)\n",
    "    y = exp_a / sum_exp_a\n",
    "    return y\n",
    "\n",
    "def get_data():\n",
    "    (x_train, t_train), (x_test, t_test) = load_mnist(normalize=True, flatten=True, one_hot_label=False)\n",
    "    return x_test, t_test\n",
    "\n",
    "def init_network():\n",
    "    with open(\"sample_weight.pkl\", 'rb') as f:\n",
    "        network = pickle.load(f)\n",
    "    return network\n",
    "\n",
    "def predict(network, x):\n",
    "    W1, W2, W3 = network['W1'], network['W2'], network['W3']\n",
    "    b1, b2, b3 = network['b1'], network['b2'], network['b3']\n",
    "    a1 = np.dot(x, W1) + b1\n",
    "    z1 = sigmoid(a1)\n",
    "    a2 = np.dot(z1, W2) + b2\n",
    "    z2 = sigmoid(a2)\n",
    "    a3 = np.dot(z2, W3) + b3\n",
    "    y = softmax(a3)\n",
    "    return y"
   ]
  },
  {
   "cell_type": "code",
   "execution_count": 13,
   "metadata": {},
   "outputs": [
    {
     "name": "stdout",
     "output_type": "stream",
     "text": [
      "Accuracy:0.9352\n"
     ]
    }
   ],
   "source": [
    "x, t = get_data()\n",
    "network = init_network()\n",
    "accuracy_cnt = 0\n",
    "\n",
    "for i in range(len(x)):\n",
    "    y = predict(network, x[i])\n",
    "    p = np.argmax(y) # 获取概率最高的元素的索引\n",
    "    if p == t[i]:\n",
    "        accuracy_cnt += 1\n",
    "        \n",
    "print(\"Accuracy:\" + str(float(accuracy_cnt) / len(x)))"
   ]
  },
  {
   "attachments": {},
   "cell_type": "markdown",
   "metadata": {},
   "source": [
    "### 批处理"
   ]
  },
  {
   "cell_type": "code",
   "execution_count": 14,
   "metadata": {},
   "outputs": [
    {
     "name": "stdout",
     "output_type": "stream",
     "text": [
      "[[-0.00741249 -0.00790439 -0.01307499 ...  0.01978721 -0.04331266\n",
      "  -0.01350104]\n",
      " [-0.01029745 -0.01616653 -0.01228376 ...  0.01920228  0.02809811\n",
      "   0.01450908]\n",
      " [-0.01309184 -0.00244747 -0.0177224  ...  0.00944778  0.01387301\n",
      "   0.03393568]\n",
      " ...\n",
      " [ 0.02242565 -0.0296145  -0.06326169 ... -0.01012643  0.01120969\n",
      "   0.01027199]\n",
      " [-0.00761533  0.02028973 -0.01498873 ...  0.02735376 -0.01229855\n",
      "   0.02407041]\n",
      " [ 0.00027915 -0.06848375  0.00911191 ... -0.03183098  0.00743086\n",
      "  -0.04021148]]\n",
      "[[-0.10694039  0.01591247 -0.44349867 ...  0.03561032  0.14045963\n",
      "   0.03964241]\n",
      " [ 0.29911557 -0.03322235 -0.08902215 ... -0.04722451 -0.0972147\n",
      "   0.2950258 ]\n",
      " [ 0.06576645  0.6330455   0.02325344 ...  0.05046809  0.26831996\n",
      "  -0.13252524]\n",
      " ...\n",
      " [-0.1839421  -0.10925075  0.25180233 ...  0.06017017  0.11689074\n",
      "   0.28868544]\n",
      " [ 0.10001627  0.0899286  -0.03874066 ...  0.15217757 -0.05744234\n",
      "  -0.00713823]\n",
      " [-0.02220659 -0.05105179  0.00777963 ... -0.531206   -0.4042084\n",
      "   0.0090801 ]]\n",
      "[[-4.21735764e-01  6.89445496e-01  8.78510177e-02 -4.83838320e-01\n",
      "  -1.95891604e-01 -3.11136067e-01  5.49542189e-01  5.37674278e-02\n",
      "  -3.05000603e-01  2.75984704e-02]\n",
      " [-5.24320543e-01 -1.43624887e-01 -4.42160573e-03  4.17745829e-01\n",
      "   2.15625867e-01 -2.56584466e-01 -1.00939667e+00  8.12479675e-01\n",
      "  -3.98552269e-02  8.23425591e-01]\n",
      " [ 6.82799876e-01 -5.12037337e-01 -4.41083580e-01 -8.21710154e-02\n",
      "   3.19505751e-01  1.08093655e+00  2.96021044e-01 -4.06458199e-01\n",
      "  -3.87590617e-01 -9.11374271e-01]\n",
      " [ 1.55144155e-01  6.78902492e-02  9.47823405e-01 -1.68429948e-02\n",
      "  -5.80456555e-01  3.27762365e-02  3.62194031e-01  7.43931830e-01\n",
      "  -8.67070615e-01 -8.71464610e-01]\n",
      " [ 5.05435288e-01 -2.73010045e-01 -3.86344641e-02  1.62854403e-01\n",
      "  -6.88129485e-01  3.32544267e-01  2.02865437e-01  9.50981900e-02\n",
      "   1.51449129e-01 -7.51806647e-02]\n",
      " [-1.96135119e-01 -1.86595306e-01 -7.12956667e-01  1.86611667e-01\n",
      "   4.71210986e-01  2.42333114e-01 -6.10382736e-01  7.51007020e-01\n",
      "  -3.54771428e-02  3.63117427e-01]\n",
      " [-3.40776503e-01  1.12583566e+00 -7.88639635e-02 -2.40077689e-01\n",
      "  -1.88947007e-01  2.77629793e-01  5.58597930e-02  7.87557483e-01\n",
      "  -7.21895814e-01 -6.01844311e-01]\n",
      " [-5.99524677e-01  7.77958393e-01 -6.34838939e-01 -4.66428464e-03\n",
      "   7.62679726e-02 -5.22314072e-01 -5.41155636e-01  1.18006003e+00\n",
      "  -5.90134799e-01  6.01088047e-01]\n",
      " [-3.76633376e-01  5.10982513e-01 -2.23146994e-02 -2.52363771e-01\n",
      "  -3.46366763e-01  2.64313281e-01  3.83371353e-01 -7.59539828e-02\n",
      "   1.97959334e-01 -4.29215163e-01]\n",
      " [ 6.50213897e-01 -3.07582080e-01 -1.82832479e-01  3.61862123e-01\n",
      "  -2.20673040e-01  2.36749575e-01  1.46889806e-01 -8.55163217e-01\n",
      "  -4.77893144e-01  5.95522761e-01]\n",
      " [ 9.80530322e-01 -2.83191472e-01  4.37024772e-01  3.36801678e-01\n",
      "  -7.04811275e-01  5.14311731e-01  3.63065779e-01  1.93833143e-01\n",
      "  -9.63333666e-01 -9.99653816e-01]\n",
      " [-5.14112294e-01 -5.21245450e-02  8.73817950e-02  6.49854317e-02\n",
      "  -6.79773763e-02  5.75620718e-02  2.17452496e-02  2.97408521e-01\n",
      "   6.58227876e-02  5.48533797e-02]\n",
      " [-1.22029677e-01 -5.97060800e-01 -1.67890251e-01 -7.57286906e-01\n",
      "   3.32458198e-01  4.26246405e-01 -5.21180809e-01  2.07759365e-01\n",
      "  -3.89716327e-02  7.81422555e-01]\n",
      " [ 1.54342026e-01 -3.68901044e-01  5.82112253e-01  5.15596330e-01\n",
      "  -5.64041555e-01 -4.99413550e-01 -8.81392837e-01  2.10159346e-01\n",
      "   1.86985135e-01 -4.38510999e-02]\n",
      " [ 4.54860330e-01 -3.00265312e-01  6.81924820e-01 -2.64147162e-01\n",
      "  -2.18347400e-01  1.88041180e-01  3.81713420e-01 -7.35825658e-01\n",
      "   2.48639315e-01 -4.43372279e-01]\n",
      " [-5.25331438e-01  1.18984044e+00  3.92173350e-01  6.12658978e-01\n",
      "  -6.09629095e-01 -1.64488718e-01 -4.21452105e-01 -1.57024071e-01\n",
      "   4.09224838e-01 -4.47212726e-01]\n",
      " [ 6.64840162e-01 -4.77979153e-01 -2.65062183e-01  6.36108816e-01\n",
      "  -1.42231810e+00  3.43148038e-02 -1.16741645e+00  7.00149655e-01\n",
      "   1.24187134e-01  9.88344133e-01]\n",
      " [ 9.01858881e-02  1.87217399e-01  2.40680173e-01  2.17940882e-01\n",
      "  -4.56552237e-01  1.17312826e-01  1.69359997e-01 -4.43112820e-01\n",
      "   3.64482552e-01 -1.11816239e+00]\n",
      " [ 4.91134822e-01 -9.00796771e-01 -5.36716223e-01 -7.89842069e-01\n",
      "   3.83926064e-01  2.72480428e-01 -2.04326913e-01  1.29462862e-02\n",
      "   8.45103979e-01  4.70017105e-01]\n",
      " [ 5.84113061e-01 -5.51996469e-01  6.50859475e-01  8.69455695e-01\n",
      "  -1.85319453e-01 -6.97416365e-01 -1.75041392e-01  9.19872299e-02\n",
      "  -2.56296039e-01 -7.93265477e-02]\n",
      " [-6.92425907e-01 -1.96424216e-01 -2.89716989e-01  4.59242135e-01\n",
      "   3.48947614e-01 -1.67159468e-01  1.60998300e-01 -8.09544206e-01\n",
      "   6.75078809e-01  1.56182379e-01]\n",
      " [-1.29524320e-02  3.38228792e-01  5.93463369e-02 -6.87147900e-02\n",
      "  -5.87453544e-01  7.74757266e-02 -2.76282996e-01  2.38401830e-01\n",
      "   6.18681967e-01 -5.51157482e-02]\n",
      " [-1.18962085e+00  2.37674057e-01  7.05483854e-02  2.19739154e-01\n",
      "   8.16889703e-01 -3.32062960e-01 -5.38534045e-01  1.60113409e-01\n",
      "  -8.55953246e-02  5.15658796e-01]\n",
      " [ 4.10203546e-01  6.13717549e-03  5.66948950e-01 -2.59074479e-01\n",
      "  -1.50069296e-01  2.25018293e-01  4.06786650e-01 -7.35297143e-01\n",
      "  -3.46720248e-01 -2.61616319e-01]\n",
      " [ 4.59970772e-01 -4.31826115e-01 -8.56852472e-01  7.73031771e-01\n",
      "   1.38916939e-01  5.60679853e-01  2.40944013e-01 -8.48280013e-01\n",
      "  -3.33365619e-01  4.76054907e-01]\n",
      " [-9.88283753e-02 -1.76046476e-01  5.23827970e-01  4.93311286e-01\n",
      "  -3.64566833e-01 -6.25113010e-01 -1.03237808e-01  1.33148193e-01\n",
      "  -2.17261493e-01  4.12722528e-01]\n",
      " [ 1.01385760e+00 -8.49169970e-01 -5.17473184e-02  1.36904821e-01\n",
      "  -2.97809035e-01 -2.57933736e-01  9.45847854e-02  1.84433058e-01\n",
      "  -9.48848128e-02 -1.27696171e-01]\n",
      " [ 1.10258982e-01 -1.13074876e-01  3.61660570e-01  6.37016416e-01\n",
      "  -9.38879609e-01  4.03465390e-01 -8.38840306e-01  8.87874886e-02\n",
      "   6.13263905e-01 -2.62609452e-01]\n",
      " [ 3.35207991e-02 -3.10817391e-01  6.60446942e-01 -8.03743303e-02\n",
      "  -3.53499681e-01  1.35674715e-01  7.04031825e-01 -5.38375497e-01\n",
      "   2.68499017e-01 -3.45674306e-01]\n",
      " [ 5.69811165e-01 -5.41205049e-01  2.31889188e-02  4.89905447e-01\n",
      "  -2.72151738e-01  5.81560850e-01 -1.45812467e-01 -6.32519484e-01\n",
      "   1.47586465e-01 -4.30490822e-01]\n",
      " [-1.78033903e-01  4.55413640e-01  2.76871175e-01  7.92362913e-02\n",
      "  -1.37377933e-01 -5.41430473e-01  1.04435158e+00 -2.25798294e-01\n",
      "  -5.47417521e-01 -6.21576250e-01]\n",
      " [-3.71773511e-01  1.31890997e-01  9.79362205e-02  6.88198984e-01\n",
      "  -1.36723658e-02 -4.33259517e-01  2.70418584e-01  6.90640584e-02\n",
      "  -7.96580434e-01 -5.26694544e-02]\n",
      " [-7.46119380e-01  9.01669323e-01 -2.98285723e-01 -6.93346620e-01\n",
      "   2.22594962e-01  3.04485057e-02  6.12528384e-01  2.91027486e-01\n",
      "  -6.12122193e-02  2.26576433e-01]\n",
      " [ 3.48814666e-01 -4.58619356e-01 -6.81712866e-01 -8.45831633e-01\n",
      "   3.85846436e-01  3.74807537e-01  6.80784345e-01  4.05046254e-01\n",
      "  -3.60009670e-01  4.06914890e-01]\n",
      " [-2.68160850e-01  1.07725048e+00 -2.42447808e-01 -2.51773655e-01\n",
      "  -4.94481117e-01  7.93285251e-01 -1.86872244e-01  2.33764172e-01\n",
      "   7.65040368e-02 -5.82407176e-01]\n",
      " [-2.11705387e-01 -1.51310667e-01  4.11912441e-01 -3.43303621e-01\n",
      "   8.63409936e-01 -1.09486476e-01  3.09372574e-01  9.14473683e-02\n",
      "  -8.08858573e-01 -4.53698725e-01]\n",
      " [-8.46252620e-01  2.60528892e-01 -2.08791450e-01  3.45685095e-01\n",
      "   3.24550092e-01  1.55364513e-01 -7.04575300e-01 -3.74434799e-01\n",
      "   6.25603318e-01  2.56761312e-01]\n",
      " [ 1.74457684e-01  1.81623884e-02  5.10722816e-01  1.43729225e-01\n",
      "  -5.16600788e-01 -1.29177034e-01 -2.84929127e-01  7.80223534e-02\n",
      "  -1.95045814e-01 -3.94748539e-01]\n",
      " [-9.24672037e-02 -2.23728850e-01 -9.66394618e-02 -4.45146620e-01\n",
      "   6.13103390e-01 -3.68567199e-01  3.70431751e-01  2.21393555e-01\n",
      "  -2.72072498e-02  5.77588558e-01]\n",
      " [ 4.03020531e-01 -2.55338818e-01 -8.18292499e-01 -7.23324642e-02\n",
      "  -1.96062587e-02  1.01438415e+00 -1.16559081e-01  8.81542623e-01\n",
      "  -4.94637221e-01  1.04218423e-01]\n",
      " [ 2.29111224e-01  7.30729550e-02  1.22222453e-01  3.62838387e-01\n",
      "  -3.36847633e-01  3.46625239e-01  4.59826976e-01 -1.19660234e+00\n",
      "   6.46007299e-01 -3.92430216e-01]\n",
      " [-6.43994093e-01 -2.67290205e-01  9.30678025e-02  3.94550234e-01\n",
      "   1.39838919e-01 -1.74355850e-01 -6.76944792e-01 -2.02130079e-01\n",
      "   7.06950128e-01  5.73860466e-01]\n",
      " [ 1.07093401e-01 -2.68440068e-01 -2.92150110e-01  1.73880085e-01\n",
      "  -3.07512134e-01 -3.96545947e-01 -1.84642792e-01  3.94368291e-01\n",
      "  -4.25530560e-02  3.89361382e-01]\n",
      " [-9.44061875e-01  3.12739849e-01  7.40508661e-02  3.96307945e-01\n",
      "   5.65728784e-01 -7.04721391e-01 -5.46964332e-02 -2.59483963e-01\n",
      "   1.21336356e-01  1.15879285e+00]\n",
      " [-3.42181930e-03 -2.76601106e-01  1.77765489e-01 -1.00918278e-01\n",
      "   5.06949902e-01  1.84735537e-01  3.32832158e-01 -2.01131087e-02\n",
      "  -9.75943431e-02 -6.96182191e-01]\n",
      " [ 3.78743917e-01 -1.30411685e-01  5.25011957e-01 -4.92531627e-01\n",
      "   8.44208971e-02 -4.36175138e-01  4.46968526e-01 -6.69526532e-02\n",
      "  -2.38409087e-01  1.86576545e-01]\n",
      " [-1.38466686e-01  2.03825533e-01  7.62569189e-01  5.65001488e-01\n",
      "  -4.62089807e-01 -9.06799734e-02 -3.04654509e-01 -3.25737983e-01\n",
      "   3.49818558e-01 -2.02839971e-01]\n",
      " [ 2.19535548e-02 -5.79012573e-01 -2.61314094e-01 -7.66233563e-01\n",
      "   6.20492339e-01  2.91753441e-01  3.10217768e-01  1.84355244e-01\n",
      "  -3.97317529e-01  1.77944213e-01]\n",
      " [ 8.36480111e-02  1.80452511e-01 -1.26577318e-01  1.01459846e-01\n",
      "  -4.49865282e-01  2.09935844e-01 -8.78130078e-01  3.66405249e-01\n",
      "  -5.88898994e-02  1.14128381e-01]\n",
      " [ 4.04730767e-01 -2.30980113e-01 -2.02063665e-01 -8.40371922e-02\n",
      "   3.85631770e-01 -2.53033131e-01 -7.08307028e-01  4.86081317e-02\n",
      "   5.63206136e-01 -2.45178029e-01]\n",
      " [ 1.23736739e-01  6.76029548e-03 -4.96723533e-01  1.10396254e+00\n",
      "   9.44059342e-02  1.11372745e+00  1.17447861e-02 -6.46701455e-01\n",
      "  -4.05388534e-01 -6.19069815e-01]\n",
      " [-4.22820002e-01  1.78682953e-01 -3.56148094e-01  2.37796769e-01\n",
      "  -3.54685962e-01  3.11215729e-01  4.49742610e-03 -4.62334067e-01\n",
      "   1.25280845e+00  2.57526368e-01]\n",
      " [ 5.01734205e-03 -2.78115179e-02  8.33090007e-01 -9.38227713e-01\n",
      "   4.41729516e-01 -2.41064683e-01  2.70801604e-01 -2.75141865e-01\n",
      "   2.39632681e-01 -2.43629783e-01]\n",
      " [ 1.65217429e-01  1.71752870e-01 -3.43052834e-01 -6.45057321e-01\n",
      "   4.53449517e-01  1.79140553e-01  4.08720821e-01 -8.79922092e-01\n",
      "   4.29752409e-01  3.10203969e-01]\n",
      " [ 4.18428481e-01  6.94155693e-01  3.97938192e-01  4.51456159e-01\n",
      "  -7.18708575e-01  9.63209383e-03 -4.92072105e-01  5.09976700e-04\n",
      "  -2.95970529e-01 -4.95860398e-01]\n",
      " [-1.76199555e-01  7.09368765e-01 -2.31948897e-01  3.25359583e-01\n",
      "  -4.63672340e-01  7.24577367e-01 -4.43653435e-01 -1.68254837e-01\n",
      "   2.95370251e-01 -4.97434855e-01]\n",
      " [-1.87396109e-01 -2.23947570e-01  2.42886275e-01 -2.86557496e-01\n",
      "   2.73342788e-01 -1.13700256e-02 -3.06602985e-01  5.72437823e-01\n",
      "  -2.42054805e-01  3.46188515e-01]\n",
      " [-1.17365503e+00  5.90703338e-02 -1.56762972e-01  1.38338506e-01\n",
      "   6.11611664e-01 -1.62515834e-01 -2.27308512e-01  5.09866297e-01\n",
      "   7.78953657e-02 -8.07275623e-03]\n",
      " [-1.22156359e-01 -2.62149960e-01 -2.96030581e-01 -6.09369529e-03\n",
      "   8.27431440e-01  1.45755662e-02  1.35886416e-01  4.84385580e-01\n",
      "  -6.17888629e-01 -2.57963389e-01]\n",
      " [-1.18745811e-01 -3.78561169e-02  8.41072202e-02  1.59376860e-01\n",
      "   2.78664678e-01 -5.57438016e-01 -1.06849708e-01  7.62400031e-02\n",
      "  -1.46159276e-01  6.71272278e-01]\n",
      " [-4.58585024e-01 -2.70307302e-01  8.93705249e-01  4.14883375e-01\n",
      "   5.04897237e-01 -5.52910447e-01  7.95029774e-02  3.26490283e-01\n",
      "  -4.37226027e-01 -1.50011420e-01]\n",
      " [-2.27586448e-01  2.70228744e-01 -1.38651179e-02 -1.68369621e-01\n",
      "  -6.68714801e-03  1.84312925e-01 -2.07858533e-01 -7.48970136e-02\n",
      "   2.81839728e-01  1.62073016e-01]\n",
      " [-2.93510854e-01  5.90191126e-01 -8.06541979e-01  4.55247253e-01\n",
      "  -6.28962517e-02  4.05282497e-01 -8.00064087e-01  1.01426566e+00\n",
      "  -9.47925091e-01  1.12049413e+00]\n",
      " [ 1.03260410e+00 -3.75866979e-01 -2.32749850e-01  3.54511850e-02\n",
      "   1.59004685e-02  1.35123044e-01 -1.82888061e-01  5.62692165e-01\n",
      "  -7.38840044e-01 -1.65996298e-01]\n",
      " [-3.03140342e-01 -3.99403989e-01 -1.24023721e-01  8.09619203e-02\n",
      "   6.03184886e-02 -3.47880661e-01 -3.64323795e-01  7.73909748e-01\n",
      "  -5.57690300e-02  7.16391385e-01]\n",
      " [-9.02440190e-01  4.48047310e-01  3.87582779e-01 -1.07054925e+00\n",
      "   6.14855111e-01 -4.32848215e-01  6.89762652e-01  1.21512324e-01\n",
      "   1.68398306e-01 -5.61287642e-01]\n",
      " [-6.52550608e-02  5.19375086e-01  2.36409321e-01  1.48231626e-01\n",
      "  -1.71541229e-01  4.79659773e-02  6.95545554e-01 -7.34554410e-01\n",
      "   5.00819862e-01 -8.43456626e-01]\n",
      " [-5.33281922e-01  5.26653945e-01  1.57454126e-02  1.46121949e-01\n",
      "   2.76504960e-02 -8.91758129e-02  4.62411702e-01  5.36043644e-02\n",
      "   2.31896397e-02 -6.53083622e-01]\n",
      " [ 3.93885463e-01  2.22290620e-01 -8.66812587e-01 -4.42612439e-01\n",
      "  -1.09500468e-01  3.44947040e-01  4.43797231e-01 -3.26241434e-01\n",
      "  -1.91667125e-01  2.68693328e-01]\n",
      " [ 5.09423316e-01 -1.10831499e+00 -6.63363814e-01  6.10601194e-02\n",
      "   4.62890774e-01  2.16605678e-01 -2.04363316e-01 -3.48413497e-01\n",
      "   5.46411932e-01  1.59806624e-01]\n",
      " [ 5.03182411e-01 -4.58128005e-01 -1.23811312e-01 -7.70608895e-03\n",
      "  -5.03727078e-01 -1.03737101e-01 -6.97336435e-01  8.40921402e-02\n",
      "   9.15018559e-01  4.06962276e-01]\n",
      " [-3.36555511e-01  2.32747003e-01 -6.51690245e-01  1.92894682e-01\n",
      "   4.90722917e-02  4.82812226e-01  5.17001033e-01 -3.74707580e-01\n",
      "  -7.26062572e-03 -2.24724170e-02]\n",
      " [-8.20727646e-01  2.77037054e-01 -4.00716156e-01 -6.01541400e-01\n",
      "   5.41227221e-01 -1.07606472e-02  1.13190107e-01 -7.11759388e-01\n",
      "   7.47027993e-01  3.95591497e-01]\n",
      " [-9.64956045e-01  6.50479198e-01  1.57247171e-01  1.21039891e+00\n",
      "  -6.58656538e-01 -2.88676590e-01 -5.25724113e-01  6.54611349e-01\n",
      "  -3.65922421e-01  4.67684865e-02]\n",
      " [-4.69699763e-02 -3.76960456e-01 -8.73867750e-01 -2.19822064e-01\n",
      "   6.68559313e-01  5.76594114e-01 -2.38980711e-01  1.74888268e-01\n",
      "  -1.48410887e-01  5.87270916e-01]\n",
      " [ 3.56634349e-01 -5.18213026e-02  9.20258999e-01 -1.40335053e-01\n",
      "  -4.26269978e-01 -6.22207582e-01  5.75894825e-02  5.12691498e-01\n",
      "  -2.06441224e-01 -2.68630385e-01]\n",
      " [-3.19506019e-01  2.53038436e-01  1.83337316e-01 -2.11295307e-01\n",
      "  -5.53449214e-01 -4.45205271e-01 -1.75601929e-01  4.42056775e-01\n",
      "   6.44582987e-01  2.00125635e-01]\n",
      " [-7.43463695e-01  2.60086924e-01 -1.95406988e-01 -4.23818171e-01\n",
      "   8.64849150e-01 -2.67847985e-01 -1.79303423e-01 -4.71354812e-01\n",
      "   5.73067427e-01  3.13313872e-01]\n",
      " [-2.63424993e-01 -2.83117831e-01 -2.91389525e-01  5.06457686e-01\n",
      "   7.84329653e-01 -5.26254058e-01  7.48095810e-01 -4.18872535e-01\n",
      "  -8.39335993e-02  2.52932400e-01]\n",
      " [ 4.14991900e-02 -4.03793097e-01 -1.95395365e-01  2.11023405e-01\n",
      "   1.32343337e-01  2.31272504e-01 -1.18078411e+00  1.86573476e-01\n",
      "   7.68505335e-02  3.85415733e-01]\n",
      " [ 1.09860265e+00 -1.09753442e+00  3.80715638e-01 -6.38348997e-01\n",
      "  -1.58655971e-01  1.94847152e-01 -7.95399770e-02  9.50471818e-01\n",
      "  -3.16824853e-01 -2.83558935e-01]\n",
      " [-2.77928740e-01  2.24254742e-01 -3.28038484e-01  2.36775950e-01\n",
      "   4.65092897e-01  1.14463799e-01 -4.18108590e-02  1.95581898e-01\n",
      "  -7.47340381e-01 -2.79023498e-01]\n",
      " [ 7.56891370e-02 -1.96978986e-01  6.49631858e-01  4.44254547e-01\n",
      "   4.46472913e-01 -2.43867710e-01  3.44643325e-01 -6.73000336e-01\n",
      "   1.98133841e-01 -7.13343263e-01]\n",
      " [ 3.50795746e-01 -2.43827224e-01  2.70755768e-01 -1.88798487e-01\n",
      "   2.67679513e-01 -2.67900437e-01 -2.25820035e-01  1.41538918e-01\n",
      "  -6.25311971e-01 -7.91989092e-04]\n",
      " [ 6.04720116e-01 -1.23945558e+00 -9.89200622e-02 -8.47476780e-01\n",
      "   1.88840643e-01  1.78689778e-01  3.30614984e-01  2.13386491e-01\n",
      "   1.40828237e-01  5.96347034e-01]\n",
      " [-1.29010156e-01 -4.19559628e-01  8.10783267e-01 -7.79421180e-02\n",
      "  -6.39355540e-01  1.82476446e-01  4.43780273e-02  2.43306741e-01\n",
      "   3.22627991e-01 -6.96950316e-01]\n",
      " [-2.65945554e-01  2.54204452e-01 -2.81551868e-01  3.05856839e-02\n",
      "   3.32366735e-01 -2.72288859e-01 -1.56741664e-01  7.37876654e-01\n",
      "  -3.42516750e-01 -3.38515751e-02]\n",
      " [-2.21063226e-01 -1.61017135e-01 -3.43953133e-01  7.71231763e-03\n",
      "   3.99634361e-01  4.22857910e-01  1.07494044e+00  1.67980686e-01\n",
      "  -5.57168424e-01 -9.82021630e-01]\n",
      " [-3.34168285e-01  4.13684517e-01  8.20092857e-02  2.00068444e-01\n",
      "  -6.36684000e-01  6.32712722e-01  6.26974523e-01 -7.68007815e-01\n",
      "   7.41086155e-02 -7.47185767e-01]\n",
      " [-1.13031104e-01  2.84815133e-01  4.20125455e-01 -4.12524790e-01\n",
      "   2.86876053e-01 -5.96397281e-01 -6.13868050e-02 -2.01329246e-01\n",
      "   1.37402400e-01  4.73863035e-02]\n",
      " [-8.77382278e-01  7.03926206e-01 -5.87477982e-01  8.03793550e-01\n",
      "  -5.38776457e-01  8.71291935e-01 -4.21437055e-01  1.79496706e-01\n",
      "  -2.01206416e-01  2.20881462e-01]\n",
      " [ 4.79993403e-01 -3.88967425e-01  6.42738879e-01 -2.66709924e-01\n",
      "  -2.35347107e-01 -5.27117729e-01  2.24357635e-01  4.09907281e-01\n",
      "  -2.55028307e-01 -3.98389012e-01]\n",
      " [-2.36967623e-01  2.08492681e-01  4.95875329e-02 -2.54601955e-01\n",
      "  -1.96262509e-01  2.20791083e-02  5.87105930e-01 -1.76071987e-01\n",
      "  -2.93505043e-01 -6.90922514e-02]\n",
      " [ 3.72552484e-01  1.13524333e-01  1.47908121e-01 -5.87250233e-01\n",
      "  -5.45590937e-01  2.20800832e-01 -1.86717466e-01 -2.76110709e-01\n",
      "   1.63341820e-01  9.27756205e-02]\n",
      " [ 6.91043854e-01 -7.39305258e-01  3.66775483e-01  2.29010403e-01\n",
      "  -2.62648702e-01 -3.35895628e-01  4.16883469e-01 -4.66414630e-01\n",
      "  -4.81522113e-01  5.41691422e-01]\n",
      " [-5.42117991e-02  8.16400051e-02 -2.16311708e-01 -6.47027910e-01\n",
      "   4.48576599e-01 -2.78799266e-01  6.27859950e-01 -3.13865662e-01\n",
      "   3.10088933e-01  5.49431086e-01]\n",
      " [-4.22955692e-01  4.71692123e-02  5.09801149e-01 -4.14053082e-01\n",
      "   1.48667157e-01 -1.13204829e-01  1.46537170e-01 -8.12405765e-01\n",
      "   7.64870703e-01 -9.93795879e-03]\n",
      " [-4.50043291e-01  7.81999648e-01  2.15509236e-01 -3.13456476e-01\n",
      "  -4.41162616e-01 -8.88375938e-02  1.30276158e-01 -7.62776807e-02\n",
      "   4.38656509e-01 -3.53991002e-01]\n",
      " [-5.44507623e-01  5.37671924e-01  2.79337078e-01  6.31389797e-01\n",
      "  -3.13700497e-01 -9.68888775e-02 -8.03692937e-01  3.23311478e-01\n",
      "   5.13087690e-01 -3.67015935e-02]\n",
      " [ 1.07227898e+00 -3.73002291e-01 -3.47672790e-01 -6.34944439e-01\n",
      "  -2.26390660e-01  8.66467118e-01 -1.20632663e-01  1.60931930e-01\n",
      "  -2.61490524e-01  3.17717306e-02]]\n"
     ]
    }
   ],
   "source": [
    "x, _ = get_data()\n",
    "network = init_network()\n",
    "W1, W2, W3 = network['W1'], network['W2'], network['W3']\n",
    "print(f\"{W1}\\n{W2}\\n{W3}\")"
   ]
  },
  {
   "cell_type": "code",
   "execution_count": 15,
   "metadata": {},
   "outputs": [
    {
     "data": {
      "text/plain": [
       "(10000, 784)"
      ]
     },
     "execution_count": 15,
     "metadata": {},
     "output_type": "execute_result"
    }
   ],
   "source": [
    "x.shape"
   ]
  },
  {
   "cell_type": "code",
   "execution_count": 16,
   "metadata": {},
   "outputs": [
    {
     "data": {
      "text/plain": [
       "(784,)"
      ]
     },
     "execution_count": 16,
     "metadata": {},
     "output_type": "execute_result"
    }
   ],
   "source": [
    "x[0].shape"
   ]
  },
  {
   "cell_type": "code",
   "execution_count": 17,
   "metadata": {},
   "outputs": [
    {
     "data": {
      "text/plain": [
       "(784, 50)"
      ]
     },
     "execution_count": 17,
     "metadata": {},
     "output_type": "execute_result"
    }
   ],
   "source": [
    "W1.shape"
   ]
  },
  {
   "cell_type": "code",
   "execution_count": 18,
   "metadata": {},
   "outputs": [
    {
     "data": {
      "text/plain": [
       "(50, 100)"
      ]
     },
     "execution_count": 18,
     "metadata": {},
     "output_type": "execute_result"
    }
   ],
   "source": [
    "W2.shape"
   ]
  },
  {
   "cell_type": "code",
   "execution_count": 19,
   "metadata": {},
   "outputs": [
    {
     "data": {
      "text/plain": [
       "(100, 10)"
      ]
     },
     "execution_count": 19,
     "metadata": {},
     "output_type": "execute_result"
    }
   ],
   "source": [
    "W3.shape"
   ]
  },
  {
   "cell_type": "code",
   "execution_count": 20,
   "metadata": {},
   "outputs": [
    {
     "name": "stdout",
     "output_type": "stream",
     "text": [
      "Accuracy:0.9352\n"
     ]
    }
   ],
   "source": [
    "x, t = get_data()\n",
    "network = init_network()\n",
    "batch_size = 100 # 批数量\n",
    "accuracy_cnt = 0\n",
    "\n",
    "for i in range(0, len(x), batch_size):\n",
    "    x_batch = x[i:i+batch_size]\n",
    "    y_batch = predict(network, x_batch)\n",
    "    p = np.argmax(y_batch, axis=1)\n",
    "    accuracy_cnt += np.sum(p == t[i:i+batch_size])\n",
    "\n",
    "print(\"Accuracy:\" + str(float(accuracy_cnt) / len(x)))"
   ]
  },
  {
   "attachments": {},
   "cell_type": "markdown",
   "metadata": {},
   "source": [
    "# 第4章 神经网络的学习\n",
    "\n",
    "## 损失函数\n",
    "\n",
    "### 均方误差"
   ]
  },
  {
   "cell_type": "code",
   "execution_count": 3,
   "metadata": {},
   "outputs": [],
   "source": [
    "import numpy as np\n",
    "def mean_squared_error(y, t):\n",
    "    return 0.5 * np.sum((y-t)**2)"
   ]
  },
  {
   "cell_type": "code",
   "execution_count": 4,
   "metadata": {},
   "outputs": [
    {
     "data": {
      "text/plain": [
       "0.09750000000000003"
      ]
     },
     "execution_count": 4,
     "metadata": {},
     "output_type": "execute_result"
    }
   ],
   "source": [
    "y = [0.1, 0.05, 0.6, 0.0, 0.05, 0.1, 0.0, 0.1, 0.0, 0.0]\n",
    "t = [0, 0, 1, 0, 0, 0, 0, 0, 0, 0]\n",
    "mean_squared_error(np.array(y), np.array(t))"
   ]
  },
  {
   "cell_type": "code",
   "execution_count": 5,
   "metadata": {},
   "outputs": [
    {
     "data": {
      "text/plain": [
       "0.5975"
      ]
     },
     "execution_count": 5,
     "metadata": {},
     "output_type": "execute_result"
    }
   ],
   "source": [
    "y = [0.1, 0.05, 0.1, 0.0, 0.05, 0.1, 0.0, 0.6, 0.0, 0.0]\n",
    "mean_squared_error(np.array(y), np.array(t))"
   ]
  },
  {
   "attachments": {},
   "cell_type": "markdown",
   "metadata": {},
   "source": [
    "### 交叉熵误差"
   ]
  },
  {
   "cell_type": "code",
   "execution_count": 6,
   "metadata": {},
   "outputs": [],
   "source": [
    "def cross_entropy_error(y, t):\n",
    "    delta = 1e-7\n",
    "    return -np.sum(t * np.log(y + delta))"
   ]
  },
  {
   "cell_type": "code",
   "execution_count": 7,
   "metadata": {},
   "outputs": [
    {
     "data": {
      "text/plain": [
       "0.510825457099338"
      ]
     },
     "execution_count": 7,
     "metadata": {},
     "output_type": "execute_result"
    }
   ],
   "source": [
    "t = [0, 0, 1, 0, 0, 0, 0, 0, 0, 0]\n",
    "y = [0.1, 0.05, 0.6, 0.0, 0.05, 0.1, 0.0, 0.1, 0.0, 0.0]\n",
    "cross_entropy_error(np.array(y), np.array(t))"
   ]
  },
  {
   "cell_type": "code",
   "execution_count": 8,
   "metadata": {},
   "outputs": [
    {
     "data": {
      "text/plain": [
       "2.302584092994546"
      ]
     },
     "execution_count": 8,
     "metadata": {},
     "output_type": "execute_result"
    }
   ],
   "source": [
    "y = [0.1, 0.05, 0.1, 0.0, 0.05, 0.1, 0.0, 0.6, 0.0, 0.0]\n",
    "cross_entropy_error(np.array(y), np.array(t))"
   ]
  },
  {
   "attachments": {},
   "cell_type": "markdown",
   "metadata": {},
   "source": [
    "### mini-batch学习"
   ]
  },
  {
   "cell_type": "code",
   "execution_count": 9,
   "metadata": {},
   "outputs": [
    {
     "name": "stdout",
     "output_type": "stream",
     "text": [
      "(60000, 784)\n",
      "(60000, 10)\n"
     ]
    }
   ],
   "source": [
    "import sys, os\n",
    "sys.path.append(os.pardir)\n",
    "import numpy as np\n",
    "from dataset.mnist import load_mnist\n",
    "(x_train, t_train), (x_test, t_test) = load_mnist(normalize=True, one_hot_label=True)\n",
    "print(x_train.shape) # (60000, 784)\n",
    "print(t_train.shape) # (60000, 10)"
   ]
  },
  {
   "cell_type": "code",
   "execution_count": 10,
   "metadata": {},
   "outputs": [
    {
     "data": {
      "text/plain": [
       "array([ 274, 1660, 3733, 3157, 2343,  935, 2215,  674, 2730, 1417])"
      ]
     },
     "execution_count": 10,
     "metadata": {},
     "output_type": "execute_result"
    }
   ],
   "source": [
    "np.random.choice(6000, 10)"
   ]
  },
  {
   "cell_type": "code",
   "execution_count": 11,
   "metadata": {},
   "outputs": [
    {
     "name": "stdout",
     "output_type": "stream",
     "text": [
      "[[0. 0. 0. ... 0. 0. 0.]\n",
      " [0. 0. 0. ... 0. 0. 0.]\n",
      " [0. 0. 0. ... 0. 0. 0.]\n",
      " ...\n",
      " [0. 0. 0. ... 0. 0. 0.]\n",
      " [0. 0. 0. ... 0. 0. 0.]\n",
      " [0. 0. 0. ... 0. 0. 0.]]\n",
      "[[0. 0. 1. 0. 0. 0. 0. 0. 0. 0.]\n",
      " [0. 0. 0. 0. 0. 0. 0. 0. 1. 0.]\n",
      " [0. 0. 0. 0. 0. 0. 1. 0. 0. 0.]\n",
      " [1. 0. 0. 0. 0. 0. 0. 0. 0. 0.]\n",
      " [0. 0. 0. 0. 0. 1. 0. 0. 0. 0.]\n",
      " [0. 0. 0. 0. 0. 0. 0. 0. 0. 1.]\n",
      " [0. 1. 0. 0. 0. 0. 0. 0. 0. 0.]\n",
      " [0. 0. 0. 0. 0. 0. 1. 0. 0. 0.]\n",
      " [0. 0. 0. 0. 0. 0. 1. 0. 0. 0.]\n",
      " [0. 0. 0. 0. 1. 0. 0. 0. 0. 0.]]\n"
     ]
    }
   ],
   "source": [
    "train_size = x_train.shape[0]\n",
    "batch_size = 10\n",
    "batch_mask = np.random.choice(train_size, batch_size)\n",
    "x_batch = x_train[batch_mask]\n",
    "t_batch = t_train[batch_mask]\n",
    "print(x_batch)\n",
    "print(t_batch)"
   ]
  },
  {
   "attachments": {},
   "cell_type": "markdown",
   "metadata": {},
   "source": [
    "### mini-batch版交叉熵误差的实现"
   ]
  },
  {
   "cell_type": "code",
   "execution_count": 12,
   "metadata": {},
   "outputs": [],
   "source": [
    "# one-hot\n",
    "\n",
    "def cross_entropy_error(y, t):\n",
    "    if y.ndim == 1:\n",
    "        t = t.reshape(1, t.size)\n",
    "        y = y.reshape(1, y.size)\n",
    "\n",
    "    batch_size = y.shape[0]\n",
    "    return -np.sum(t * np.log(y + 1e-7)) / batch_size"
   ]
  },
  {
   "cell_type": "code",
   "execution_count": null,
   "metadata": {},
   "outputs": [],
   "source": [
    "# not one-hot\n",
    "\n",
    "def cross_entropy_error(y, t):\n",
    "    if y.ndim == 1:\n",
    "        t = t.reshape(1, t.size)\n",
    "        y = y.reshape(1, y.size)\n",
    "\n",
    "    batch_size = y.shape[0]\n",
    "    return -np.sum(np.log(y[np.arange(batch_size), t] + 1e-7)) / batch_size\n",
    "\n",
    "# np.arange (batch_size)会生成一个从 0 到 batch_size-1 的数组。比如当 batch_size 为 5 时，\n",
    "# np.arange(batch_size) 会生成一个NumPy 数组[0, 1, 2, 3, 4]。\n",
    "# 因为 t 中标签是以 [2, 7, 0, 9, 4] 的形式存储的，所以 y[np.arange(batch_size), t]\n",
    "# 能抽出各个数据的正确解标签对应的神经网络的输出\n",
    "# 在这个例子中，y[np.arange(batch_size), t] 会生成 NumPy 数组 [y[0,2], y[1,7], y[2,0], y[3,9], y[4,4]]\n"
   ]
  },
  {
   "attachments": {},
   "cell_type": "markdown",
   "metadata": {},
   "source": [
    "## 数值微分\n",
    "\n",
    "### 导数"
   ]
  },
  {
   "cell_type": "code",
   "execution_count": 13,
   "metadata": {},
   "outputs": [],
   "source": [
    "def numerical_diff(f, x):\n",
    "    h = 1e-4 # 0.0001\n",
    "    return (f(x+h) - f(x-h)) / (2*h)"
   ]
  },
  {
   "attachments": {},
   "cell_type": "markdown",
   "metadata": {},
   "source": [
    "### 数值微分的例子"
   ]
  },
  {
   "cell_type": "code",
   "execution_count": 14,
   "metadata": {},
   "outputs": [],
   "source": [
    "def function_1(x):\n",
    "    return 0.01*x**2 + 0.1*x"
   ]
  },
  {
   "cell_type": "code",
   "execution_count": 15,
   "metadata": {},
   "outputs": [
    {
     "data": {
      "image/png": "[encoded data removed]",
      "text/plain": [
       "<Figure size 640x480 with 1 Axes>"
      ]
     },
     "metadata": {},
     "output_type": "display_data"
    }
   ],
   "source": [
    "import numpy as np\n",
    "import matplotlib.pylab as plt\n",
    "x = np.arange(0.0, 20.0, 0.1) # 以0.1为单位，从0到20的数组x\n",
    "y = function_1(x)\n",
    "plt.xlabel(\"x\")\n",
    "plt.ylabel(\"f(x)\")\n",
    "plt.plot(x, y)\n",
    "plt.show()"
   ]
  },
  {
   "cell_type": "code",
   "execution_count": 16,
   "metadata": {},
   "outputs": [
    {
     "data": {
      "text/plain": [
       "0.1999999999990898"
      ]
     },
     "execution_count": 16,
     "metadata": {},
     "output_type": "execute_result"
    }
   ],
   "source": [
    "numerical_diff(function_1, 5)"
   ]
  },
  {
   "cell_type": "code",
   "execution_count": 17,
   "metadata": {},
   "outputs": [
    {
     "data": {
      "text/plain": [
       "0.2999999999986347"
      ]
     },
     "execution_count": 17,
     "metadata": {},
     "output_type": "execute_result"
    }
   ],
   "source": [
    "numerical_diff(function_1, 10)"
   ]
  },
  {
   "attachments": {},
   "cell_type": "markdown",
   "metadata": {},
   "source": [
    "### 偏导数"
   ]
  },
  {
   "cell_type": "code",
   "execution_count": 18,
   "metadata": {},
   "outputs": [],
   "source": [
    "def function_2(x):\n",
    "    return x[0]**2 + x[1]**2\n",
    "    # 或者return np.sum(x**2)"
   ]
  },
  {
   "cell_type": "code",
   "execution_count": 20,
   "metadata": {},
   "outputs": [
    {
     "data": {
      "text/plain": [
       "6.00000000000378"
      ]
     },
     "execution_count": 20,
     "metadata": {},
     "output_type": "execute_result"
    }
   ],
   "source": [
    "# 问题1：求x0 = 3, x1 = 4时，关于x0的偏导数\n",
    "\n",
    "def function_tmp1(x0):\n",
    "    return x0*x0 + 4.0**2.0\n",
    "\n",
    "numerical_diff(function_tmp1, 3.0)"
   ]
  },
  {
   "cell_type": "code",
   "execution_count": 21,
   "metadata": {},
   "outputs": [
    {
     "data": {
      "text/plain": [
       "7.999999999999119"
      ]
     },
     "execution_count": 21,
     "metadata": {},
     "output_type": "execute_result"
    }
   ],
   "source": [
    "# 问题2：求x0 = 3, x1 = 4时，关于x1的偏导数\n",
    "\n",
    "def function_tmp2(x1):\n",
    "    return 3.0**2.0 + x1*x1\n",
    "\n",
    "numerical_diff(function_tmp2, 4.0)"
   ]
  },
  {
   "attachments": {},
   "cell_type": "markdown",
   "metadata": {},
   "source": [
    "## 梯度\n",
    "\n",
    "在刚才的例子中，我们按变量分别计算了 x0 和 x1 的偏导数。现在，我们希望一起计算x0和x1的偏导数。\n",
    "像这样的由全部变量的偏导数汇总而成的向量称为梯度（gradient）。"
   ]
  },
  {
   "cell_type": "code",
   "execution_count": 22,
   "metadata": {},
   "outputs": [],
   "source": [
    "def numerical_gradient(f, x):\n",
    "    h = 1e-4 # 0.0001\n",
    "    grad = np.zeros_like(x) # 生成和x形状相同的数组\n",
    "\n",
    "    for idx in range(x.size):\n",
    "        tmp_val = x[idx]\n",
    "        # f(x+h)的计算\n",
    "        x[idx] = tmp_val + h\n",
    "        fxh1 = f(x)\n",
    "\n",
    "        # f(x-h)的计算\n",
    "        x[idx] = tmp_val - h\n",
    "        fxh2 = f(x)\n",
    "\n",
    "        grad[idx] = (fxh1 - fxh2) / (2*h)\n",
    "        x[idx] = tmp_val # 还原值\n",
    "    return grad"
   ]
  },
  {
   "attachments": {},
   "cell_type": "markdown",
   "metadata": {},
   "source": [
    "函数 numerical_gradient(f, x) 中，参数 f 为函数，x 为 NumPy 数组，该函数对 NumPy 数组x的各个元素求数值微分。\n",
    "现在，我们用这个函数实际计算一下梯度。这里我们求点 (3, 4)、(0, 2)、(3, 0) 处的梯度。"
   ]
  },
  {
   "cell_type": "code",
   "execution_count": 23,
   "metadata": {},
   "outputs": [
    {
     "data": {
      "text/plain": [
       "array([6., 8.])"
      ]
     },
     "execution_count": 23,
     "metadata": {},
     "output_type": "execute_result"
    }
   ],
   "source": [
    "numerical_gradient(function_2, np.array([3.0, 4.0]))"
   ]
  },
  {
   "cell_type": "code",
   "execution_count": 24,
   "metadata": {},
   "outputs": [
    {
     "data": {
      "text/plain": [
       "array([0., 4.])"
      ]
     },
     "execution_count": 24,
     "metadata": {},
     "output_type": "execute_result"
    }
   ],
   "source": [
    "numerical_gradient(function_2, np.array([0.0, 2.0]))"
   ]
  },
  {
   "cell_type": "code",
   "execution_count": 25,
   "metadata": {},
   "outputs": [
    {
     "data": {
      "text/plain": [
       "array([6., 0.])"
      ]
     },
     "execution_count": 25,
     "metadata": {},
     "output_type": "execute_result"
    }
   ],
   "source": [
    "numerical_gradient(function_2, np.array([3.0, 0.0]))"
   ]
  },
  {
   "attachments": {},
   "cell_type": "markdown",
   "metadata": {},
   "source": [
    "### 梯度法"
   ]
  },
  {
   "cell_type": "code",
   "execution_count": 26,
   "metadata": {},
   "outputs": [],
   "source": [
    "def gradient_descent(f, init_x, lr=0.01, step_num=100):\n",
    "    x = init_x\n",
    "\n",
    "    for i in range(step_num):\n",
    "        grad = numerical_gradient(f, x)\n",
    "        x -= lr * grad\n",
    "\n",
    "    return x\n",
    "\n",
    "# 学习率 lr 过大或者过小都无法得到好的结果"
   ]
  },
  {
   "cell_type": "code",
   "execution_count": 28,
   "metadata": {},
   "outputs": [
    {
     "data": {
      "text/plain": [
       "array([-6.11110793e-10,  8.14814391e-10])"
      ]
     },
     "execution_count": 28,
     "metadata": {},
     "output_type": "execute_result"
    }
   ],
   "source": [
    "def function_2(x):\n",
    "    return x[0]**2 + x[1]**2\n",
    "\n",
    "init_x = np.array([-3.0, 4.0])\n",
    "gradient_descent(function_2, init_x, lr=0.1, step_num=100)"
   ]
  },
  {
   "attachments": {},
   "cell_type": "markdown",
   "metadata": {},
   "source": [
    "### 神经网络的梯度"
   ]
  },
  {
   "cell_type": "code",
   "execution_count": 30,
   "metadata": {},
   "outputs": [],
   "source": [
    "import sys, os\n",
    "sys.path.append(os.pardir)\n",
    "import numpy as np\n",
    "from common.functions import softmax, cross_entropy_error\n",
    "from common.gradient import numerical_gradient\n",
    "\n",
    "class simpleNet:\n",
    "    def __init__(self):\n",
    "        self.W = np.random.randn(2,3) # 用高斯分布进行初始化\n",
    "\n",
    "    def predict(self, x):\n",
    "        return np.dot(x, self.W)\n",
    "\n",
    "    def loss(self, x, t):\n",
    "        z = self.predict(x)\n",
    "        y = softmax(z)\n",
    "        loss = cross_entropy_error(y, t)\n",
    "        return loss"
   ]
  },
  {
   "cell_type": "code",
   "execution_count": 31,
   "metadata": {},
   "outputs": [
    {
     "name": "stdout",
     "output_type": "stream",
     "text": [
      "[[-1.33055184 -0.16074859  0.7428918 ]\n",
      " [-0.35812586 -0.85218893  0.09633387]]\n"
     ]
    }
   ],
   "source": [
    "net = simpleNet()\n",
    "print(net.W) # 权重参数"
   ]
  },
  {
   "cell_type": "code",
   "execution_count": 32,
   "metadata": {},
   "outputs": [
    {
     "name": "stdout",
     "output_type": "stream",
     "text": [
      "[-1.12064437 -0.86341919  0.53243557]\n"
     ]
    }
   ],
   "source": [
    "x = np.array([0.6, 0.9])\n",
    "p = net.predict(x)\n",
    "print(p)\n"
   ]
  },
  {
   "cell_type": "code",
   "execution_count": 33,
   "metadata": {},
   "outputs": [
    {
     "data": {
      "text/plain": [
       "2"
      ]
     },
     "execution_count": 33,
     "metadata": {},
     "output_type": "execute_result"
    }
   ],
   "source": [
    "np.argmax(p)"
   ]
  },
  {
   "cell_type": "code",
   "execution_count": 34,
   "metadata": {},
   "outputs": [
    {
     "data": {
      "text/plain": [
       "0.36400429863279593"
      ]
     },
     "execution_count": 34,
     "metadata": {},
     "output_type": "execute_result"
    }
   ],
   "source": [
    "t = np.array([0, 0, 1]) # 正确解标签\n",
    "net.loss(x, t)"
   ]
  },
  {
   "cell_type": "code",
   "execution_count": 35,
   "metadata": {},
   "outputs": [
    {
     "name": "stdout",
     "output_type": "stream",
     "text": [
      "[[ 0.07982567  0.10324144 -0.18306711]\n",
      " [ 0.1197385   0.15486216 -0.27460066]]\n"
     ]
    }
   ],
   "source": [
    "def f(W):\n",
    "    return net.loss(x, t)\n",
    "\n",
    "dW = numerical_gradient(f, net.W)\n",
    "print(dW)"
   ]
  },
  {
   "cell_type": "code",
   "execution_count": 37,
   "metadata": {},
   "outputs": [
    {
     "data": {
      "text/plain": [
       "array([[ 0.07982567,  0.10324144, -0.18306711],\n",
       "       [ 0.1197385 ,  0.15486216, -0.27460066]])"
      ]
     },
     "execution_count": 37,
     "metadata": {},
     "output_type": "execute_result"
    }
   ],
   "source": [
    "f = lambda w: net.loss(x, t)\n",
    "dW = numerical_gradient(f, net.W)\n",
    "dW"
   ]
  },
  {
   "attachments": {},
   "cell_type": "markdown",
   "metadata": {},
   "source": [
    "## 学习算法的实现\n",
    "\n",
    "**前提**\n",
    "\n",
    "神经网络存在合适的权重和偏置，调整权重和偏置以便拟合训练数据的过程称为“学习”。神经网络的学习分成下面4个步骤。\n",
    "\n",
    "\n",
    "**步骤 1（mini-batch）**\n",
    "\n",
    "从训练数据中随机选出一部分数据，这部分数据称为mini-batch。我们的目标是减小mini-batch的损失函数的值。\n",
    "\n",
    "**步骤 2（计算梯度）**\n",
    "\n",
    "为了减小mini-batch的损失函数的值，需要求出各个权重参数的梯度。梯度表示损失函数的值减小最多的方向。\n",
    "\n",
    "**步骤3（更新参数）**\n",
    "\n",
    "将权重参数沿梯度方向进行微小更新。\n",
    "\n",
    "**步骤4（重复）**\n",
    "\n",
    "重复步骤1、步骤2、步骤3。\n",
    "\n",
    "\n",
    "*这里使用的数据是随机选择的 mini batch 数据，所以又称为随机梯度下降法（stochastic gradient descent）。*"
   ]
  },
  {
   "attachments": {},
   "cell_type": "markdown",
   "metadata": {},
   "source": [
    "### 2层神经网络的类"
   ]
  },
  {
   "cell_type": "code",
   "execution_count": 45,
   "metadata": {},
   "outputs": [],
   "source": [
    "import sys, os\n",
    "sys.path.append(os.pardir)\n",
    "from common.functions import *\n",
    "from common.gradient import numerical_gradient\n",
    "\n",
    "class TwoLayerNet:\n",
    "\n",
    "    def __init__(self, input_size, hidden_size, output_size, weight_init_std=0.01):\n",
    "\n",
    "        # 初始化权重\n",
    "        self.params = {}\n",
    "        self.params['W1'] = weight_init_std * np.random.randn(input_size, hidden_size)\n",
    "        self.params['b1'] = np.zeros(hidden_size)\n",
    "        self.params['W2'] = weight_init_std * np.random.randn(hidden_size, output_size)\n",
    "        self.params['b2'] = np.zeros(output_size)\n",
    "\n",
    "    def predict(self, x):\n",
    "        W1, W2 = self.params['W1'], self.params['W2']\n",
    "        b1, b2 = self.params['b1'], self.params['b2']\n",
    "\n",
    "        a1 = np.dot(x, W1) + b1\n",
    "        z1 = sigmoid(a1)\n",
    "        a2 = np.dot(z1, W2) + b2\n",
    "        y = softmax(a2)\n",
    "\n",
    "        return y\n",
    "\n",
    "    # x:输入数据, t:监督数据\n",
    "    def loss(self, x, t):\n",
    "        y = self.predict(x)\n",
    "\n",
    "        return cross_entropy_error(y, t)\n",
    "\n",
    "    def accuracy(self, x, t):\n",
    "        y = self.predict(x)\n",
    "        y = np.argmax(y, axis=1)\n",
    "        t = np.argmax(t, axis=1)\n",
    "\n",
    "        accuracy = np.sum(y == t) / float(x.shape[0])\n",
    "        return accuracy\n",
    "\n",
    "    # x:输入数据, t:监督数据\n",
    "    def numerical_gradient(self, x, t):\n",
    "        loss_W = lambda W: self.loss(x, t)\n",
    "        \n",
    "        grads = {}\n",
    "        grads['W1'] = numerical_gradient(loss_W, self.params['W1'])\n",
    "        grads['b1'] = numerical_gradient(loss_W, self.params['b1'])\n",
    "        grads['W2'] = numerical_gradient(loss_W, self.params['W2'])\n",
    "        grads['b2'] = numerical_gradient(loss_W, self.params['b2'])\n",
    "\n",
    "        return grads"
   ]
  },
  {
   "cell_type": "code",
   "execution_count": 40,
   "metadata": {},
   "outputs": [
    {
     "name": "stdout",
     "output_type": "stream",
     "text": [
      "(784, 100)\n",
      "(100,)\n",
      "(100, 10)\n",
      "(10,)\n"
     ]
    }
   ],
   "source": [
    "net = TwoLayerNet(input_size=784, hidden_size=100, output_size=10)\n",
    "print(net.params['W1'].shape) # (784, 100)\n",
    "print(net.params['b1'].shape) # (100,)\n",
    "print(net.params['W2'].shape) # (100, 10)\n",
    "print(net.params['b2'].shape) # (10,)\n"
   ]
  },
  {
   "cell_type": "code",
   "execution_count": 42,
   "metadata": {},
   "outputs": [
    {
     "data": {
      "text/plain": [
       "array([[0.10352637, 0.09692223, 0.099531  , 0.10202541, 0.09890069,\n",
       "        0.10624322, 0.10182988, 0.10107655, 0.0950225 , 0.09492214],\n",
       "       [0.10370412, 0.09738011, 0.09903809, 0.10213604, 0.09870513,\n",
       "        0.1062154 , 0.10144311, 0.10136804, 0.09505469, 0.09495526],\n",
       "       [0.10387259, 0.09736258, 0.09933855, 0.10172442, 0.09847783,\n",
       "        0.10668332, 0.10166311, 0.10120905, 0.09483632, 0.09483223],\n",
       "       [0.10401539, 0.09730519, 0.09962813, 0.10232687, 0.09839833,\n",
       "        0.1064406 , 0.10129282, 0.10114496, 0.09454774, 0.09489998],\n",
       "       [0.10430889, 0.09726194, 0.09933625, 0.10193234, 0.09872108,\n",
       "        0.10679959, 0.10130765, 0.100627  , 0.09473894, 0.09496632],\n",
       "       [0.10358928, 0.09735884, 0.09977285, 0.10197333, 0.0984367 ,\n",
       "        0.10661938, 0.10148189, 0.10092644, 0.09476233, 0.09507896],\n",
       "       [0.1041181 , 0.0974545 , 0.09952312, 0.10187185, 0.09875611,\n",
       "        0.10614097, 0.10163813, 0.10107798, 0.09477174, 0.0946475 ],\n",
       "       [0.1039055 , 0.09733551, 0.09917188, 0.10208045, 0.09892604,\n",
       "        0.10647797, 0.1015949 , 0.1007551 , 0.09481355, 0.09493909],\n",
       "       [0.10352052, 0.09702801, 0.09928988, 0.10232813, 0.09906083,\n",
       "        0.10613369, 0.1013555 , 0.10119222, 0.0949043 , 0.09518693],\n",
       "       [0.1041353 , 0.09696074, 0.09960625, 0.10233039, 0.09872355,\n",
       "        0.10643703, 0.10111533, 0.10105535, 0.09478279, 0.09485327],\n",
       "       [0.10406131, 0.09733212, 0.09902701, 0.10253039, 0.09845353,\n",
       "        0.10684548, 0.10130342, 0.10088499, 0.09469652, 0.09486523],\n",
       "       [0.10424948, 0.09712375, 0.09957432, 0.10225293, 0.09870592,\n",
       "        0.10637694, 0.10122568, 0.10087887, 0.0950734 , 0.09453872],\n",
       "       [0.10393911, 0.09740995, 0.09947274, 0.10200098, 0.09843767,\n",
       "        0.10649754, 0.10153885, 0.10069982, 0.09507811, 0.09492523],\n",
       "       [0.10423511, 0.09725181, 0.09927483, 0.10198248, 0.0991689 ,\n",
       "        0.10679311, 0.10152412, 0.10086032, 0.09444019, 0.09446914],\n",
       "       [0.10438353, 0.09724364, 0.09935926, 0.10214144, 0.09850258,\n",
       "        0.10639855, 0.10142417, 0.10112385, 0.0947329 , 0.09469008],\n",
       "       [0.10417013, 0.09728315, 0.09918718, 0.10220265, 0.09842184,\n",
       "        0.10626835, 0.10153353, 0.10098697, 0.09525191, 0.09469429],\n",
       "       [0.10397226, 0.09733614, 0.09945222, 0.1020133 , 0.09853964,\n",
       "        0.10644303, 0.10119365, 0.10123472, 0.09500494, 0.0948101 ],\n",
       "       [0.10407732, 0.09740376, 0.09963801, 0.10193597, 0.09845784,\n",
       "        0.10635431, 0.10166909, 0.10087932, 0.0946802 , 0.09490418],\n",
       "       [0.10421386, 0.09736362, 0.09920354, 0.10240075, 0.09890435,\n",
       "        0.10640466, 0.10147465, 0.1007402 , 0.09486623, 0.09442815],\n",
       "       [0.10421573, 0.09716064, 0.09918106, 0.10241509, 0.09885321,\n",
       "        0.10649318, 0.10122711, 0.10089244, 0.09481121, 0.09475034],\n",
       "       [0.10380313, 0.09741072, 0.09915714, 0.10223979, 0.098439  ,\n",
       "        0.10661767, 0.10187418, 0.10077695, 0.09475634, 0.09492508],\n",
       "       [0.10397248, 0.0971142 , 0.09957787, 0.10186779, 0.09894076,\n",
       "        0.10668074, 0.10140286, 0.10116413, 0.09458569, 0.09469349],\n",
       "       [0.10437702, 0.09701034, 0.0993833 , 0.10225609, 0.09856961,\n",
       "        0.10653978, 0.10158747, 0.10099517, 0.09459572, 0.09468549],\n",
       "       [0.10418731, 0.09741312, 0.09932147, 0.10199467, 0.09839888,\n",
       "        0.10668811, 0.10138108, 0.10109244, 0.09469857, 0.09482435],\n",
       "       [0.10389848, 0.09729618, 0.09909331, 0.1021927 , 0.09863584,\n",
       "        0.10656632, 0.10120268, 0.10084448, 0.09512755, 0.09514246],\n",
       "       [0.10384362, 0.09726574, 0.09936405, 0.10201634, 0.09895923,\n",
       "        0.10636344, 0.10135454, 0.10112201, 0.09498874, 0.0947223 ],\n",
       "       [0.10417821, 0.09704911, 0.09895246, 0.10199848, 0.09901703,\n",
       "        0.10676579, 0.10145859, 0.1012123 , 0.09484251, 0.09452551],\n",
       "       [0.10417759, 0.09704878, 0.09933197, 0.10224065, 0.09853404,\n",
       "        0.10666971, 0.10162128, 0.10095004, 0.09454144, 0.09488452],\n",
       "       [0.10390321, 0.09742118, 0.09936345, 0.1020416 , 0.09900501,\n",
       "        0.10634391, 0.1020881 , 0.10082192, 0.09457091, 0.0944407 ],\n",
       "       [0.10363306, 0.09758949, 0.09939103, 0.10200961, 0.09863598,\n",
       "        0.10641481, 0.10172209, 0.10116029, 0.09479578, 0.09464785],\n",
       "       [0.1036685 , 0.09704165, 0.09949237, 0.10204786, 0.09876434,\n",
       "        0.10660151, 0.10118891, 0.101157  , 0.09527433, 0.09476353],\n",
       "       [0.10371919, 0.09709334, 0.09959795, 0.10207685, 0.09901614,\n",
       "        0.10616071, 0.10146183, 0.10112155, 0.09495904, 0.0947934 ],\n",
       "       [0.10403732, 0.09695215, 0.09921648, 0.10230515, 0.09912207,\n",
       "        0.10655706, 0.10151085, 0.10093701, 0.09455857, 0.09480334],\n",
       "       [0.1042278 , 0.09702561, 0.09941373, 0.10221361, 0.09857453,\n",
       "        0.10652564, 0.10161389, 0.10099996, 0.09485365, 0.09455157],\n",
       "       [0.10408254, 0.09711163, 0.0998122 , 0.10201531, 0.09870385,\n",
       "        0.10640767, 0.1016237 , 0.10109373, 0.09449963, 0.09464973],\n",
       "       [0.10377312, 0.09743071, 0.09921571, 0.10205384, 0.09855719,\n",
       "        0.10639979, 0.10155484, 0.10121053, 0.09490435, 0.09489992],\n",
       "       [0.10397937, 0.09724289, 0.09944067, 0.10238057, 0.09899865,\n",
       "        0.10651279, 0.10121361, 0.10076818, 0.09487242, 0.09459087],\n",
       "       [0.10417036, 0.09696875, 0.09902041, 0.10214744, 0.09865193,\n",
       "        0.10662934, 0.10144959, 0.10094916, 0.09487153, 0.09514148],\n",
       "       [0.10408068, 0.09733757, 0.09952347, 0.10212056, 0.0986532 ,\n",
       "        0.1063763 , 0.10146018, 0.10081826, 0.09482078, 0.09480901],\n",
       "       [0.10424186, 0.09697457, 0.0993101 , 0.10223207, 0.09894714,\n",
       "        0.10675564, 0.10131415, 0.1007582 , 0.09463561, 0.09483066],\n",
       "       [0.10424179, 0.09737454, 0.09899236, 0.10226058, 0.0984435 ,\n",
       "        0.10679598, 0.10150113, 0.10098786, 0.09478664, 0.09461562],\n",
       "       [0.10395342, 0.09672679, 0.09944266, 0.10239642, 0.09848314,\n",
       "        0.10675335, 0.10134584, 0.10094742, 0.09499182, 0.09495913],\n",
       "       [0.1038225 , 0.09721183, 0.09889469, 0.10217247, 0.09889514,\n",
       "        0.10679859, 0.10129203, 0.10103317, 0.09499624, 0.09488334],\n",
       "       [0.1038127 , 0.09742865, 0.09932073, 0.1024201 , 0.09898034,\n",
       "        0.10629482, 0.10151117, 0.10072303, 0.09460186, 0.09490659],\n",
       "       [0.10414773, 0.0969406 , 0.0995541 , 0.10235158, 0.09881156,\n",
       "        0.10646582, 0.10130364, 0.10131175, 0.09437416, 0.09473907],\n",
       "       [0.10373018, 0.09719931, 0.09924641, 0.10214467, 0.09887121,\n",
       "        0.10615058, 0.10167768, 0.1011541 , 0.0950599 , 0.09476596],\n",
       "       [0.10403705, 0.09710038, 0.09947304, 0.10230314, 0.09852362,\n",
       "        0.10663808, 0.10120052, 0.10124027, 0.09465734, 0.09482657],\n",
       "       [0.10401173, 0.0971896 , 0.09903901, 0.10231359, 0.0987474 ,\n",
       "        0.106957  , 0.10122591, 0.10101761, 0.09466431, 0.09483384],\n",
       "       [0.10403179, 0.09727773, 0.09910054, 0.10224965, 0.0985887 ,\n",
       "        0.10625838, 0.10147878, 0.10105519, 0.09497643, 0.09498281],\n",
       "       [0.10352696, 0.09715783, 0.09935273, 0.10235878, 0.09868814,\n",
       "        0.10653593, 0.10152594, 0.10105243, 0.09489496, 0.0949063 ],\n",
       "       [0.10392981, 0.09722105, 0.09908543, 0.10254226, 0.09873911,\n",
       "        0.10638973, 0.10117805, 0.10138592, 0.09478843, 0.09474023],\n",
       "       [0.10441094, 0.09731335, 0.09946763, 0.10214615, 0.09856421,\n",
       "        0.10644157, 0.10135847, 0.10072485, 0.09455574, 0.0950171 ],\n",
       "       [0.10351971, 0.09749187, 0.09944472, 0.10192594, 0.09849417,\n",
       "        0.1063581 , 0.10140615, 0.10142133, 0.09494586, 0.09499215],\n",
       "       [0.1039123 , 0.09711142, 0.09919805, 0.10216414, 0.09875783,\n",
       "        0.10650167, 0.10122362, 0.1011105 , 0.09519899, 0.09482149],\n",
       "       [0.10424497, 0.09678552, 0.09936198, 0.10207715, 0.09872643,\n",
       "        0.10664142, 0.1012138 , 0.10115547, 0.09494197, 0.09485127],\n",
       "       [0.10400471, 0.09719534, 0.09944376, 0.10212338, 0.09880955,\n",
       "        0.10640837, 0.10150172, 0.10087625, 0.09481592, 0.09482099],\n",
       "       [0.10400686, 0.09737045, 0.09927012, 0.10219487, 0.09881092,\n",
       "        0.10625947, 0.10152271, 0.10113807, 0.09478655, 0.09463998],\n",
       "       [0.10418895, 0.09749882, 0.09949267, 0.10209202, 0.09889083,\n",
       "        0.10638043, 0.10124084, 0.10064072, 0.094871  , 0.09470371],\n",
       "       [0.1035091 , 0.09717518, 0.09972033, 0.10223922, 0.09878402,\n",
       "        0.10634518, 0.10104791, 0.1012139 , 0.09480303, 0.09516213],\n",
       "       [0.10405804, 0.09746416, 0.09911076, 0.10228795, 0.09848815,\n",
       "        0.10662358, 0.10144949, 0.10102422, 0.09469167, 0.09480199],\n",
       "       [0.10413282, 0.09725966, 0.0991274 , 0.10227925, 0.09860136,\n",
       "        0.10634683, 0.10125383, 0.10099214, 0.09510898, 0.09489773],\n",
       "       [0.10402952, 0.09699078, 0.09962261, 0.10194019, 0.09884148,\n",
       "        0.10698342, 0.10154951, 0.10074827, 0.09462729, 0.09466693],\n",
       "       [0.10421511, 0.09724112, 0.09943737, 0.10217221, 0.09861914,\n",
       "        0.10642452, 0.10138699, 0.10084358, 0.094798  , 0.09486196],\n",
       "       [0.10426265, 0.09729144, 0.0995156 , 0.10187851, 0.09855526,\n",
       "        0.10662377, 0.1015742 , 0.1007463 , 0.09490718, 0.09464508],\n",
       "       [0.1043094 , 0.09698312, 0.09915899, 0.10226222, 0.09898525,\n",
       "        0.10649525, 0.10149059, 0.101308  , 0.09464543, 0.09436175],\n",
       "       [0.10383178, 0.09719802, 0.09880876, 0.10233373, 0.09914362,\n",
       "        0.10644221, 0.10183992, 0.10116302, 0.09450589, 0.09473305],\n",
       "       [0.1040145 , 0.09764793, 0.09949212, 0.10224267, 0.09882737,\n",
       "        0.10630856, 0.10136855, 0.1008299 , 0.09458279, 0.09468561],\n",
       "       [0.10406848, 0.09702643, 0.09936633, 0.10223383, 0.09900783,\n",
       "        0.10641023, 0.1012363 , 0.10117555, 0.09458627, 0.09488874],\n",
       "       [0.103737  , 0.09713277, 0.09933353, 0.10191977, 0.09897094,\n",
       "        0.10666262, 0.10182215, 0.10118636, 0.0945535 , 0.09468136],\n",
       "       [0.10385265, 0.09723089, 0.09951271, 0.10230891, 0.09866276,\n",
       "        0.10668643, 0.10112299, 0.10082947, 0.09486444, 0.09492875],\n",
       "       [0.10450197, 0.09703667, 0.09932416, 0.10242859, 0.09855254,\n",
       "        0.10640052, 0.10170974, 0.10119075, 0.09442458, 0.09443047],\n",
       "       [0.10383787, 0.09709936, 0.0994549 , 0.10241517, 0.09910758,\n",
       "        0.10622719, 0.1011981 , 0.10080294, 0.09499649, 0.0948604 ],\n",
       "       [0.10424736, 0.09703789, 0.09927874, 0.10219948, 0.0983266 ,\n",
       "        0.1065962 , 0.10125826, 0.10124529, 0.09497681, 0.09483336],\n",
       "       [0.10346846, 0.09727789, 0.09903271, 0.10229191, 0.09902669,\n",
       "        0.10630606, 0.10149367, 0.10110226, 0.09497974, 0.09502062],\n",
       "       [0.10389602, 0.09720299, 0.09948681, 0.10244895, 0.09866101,\n",
       "        0.10622339, 0.10128869, 0.10085366, 0.0949642 , 0.09497428],\n",
       "       [0.10370186, 0.09725264, 0.09931844, 0.10218122, 0.09860294,\n",
       "        0.1062762 , 0.10141955, 0.10110162, 0.09506041, 0.09508512],\n",
       "       [0.10376753, 0.09716543, 0.09923682, 0.10243445, 0.09860491,\n",
       "        0.10648915, 0.10121651, 0.10112167, 0.09492497, 0.09503855],\n",
       "       [0.10407128, 0.09713155, 0.09902519, 0.10254383, 0.09854832,\n",
       "        0.10679765, 0.1013864 , 0.10071787, 0.09484585, 0.09493207],\n",
       "       [0.10400828, 0.09714103, 0.09981898, 0.10195208, 0.09881847,\n",
       "        0.10647549, 0.10134778, 0.10064155, 0.09483205, 0.09496429],\n",
       "       [0.10416379, 0.09738414, 0.09901293, 0.10219699, 0.09899427,\n",
       "        0.10621133, 0.10154217, 0.10096145, 0.09498011, 0.09455282],\n",
       "       [0.10372265, 0.09706601, 0.09960594, 0.10209874, 0.09883471,\n",
       "        0.10644008, 0.10142747, 0.10096731, 0.09498633, 0.09485075],\n",
       "       [0.10402916, 0.09755176, 0.0994904 , 0.10242905, 0.09861098,\n",
       "        0.10650533, 0.10142612, 0.10082108, 0.0943908 , 0.09474533],\n",
       "       [0.10433462, 0.09694498, 0.09962675, 0.10198228, 0.09877924,\n",
       "        0.10678555, 0.10123744, 0.10073097, 0.09473065, 0.09484751],\n",
       "       [0.10370745, 0.09732072, 0.09923613, 0.10225748, 0.09878822,\n",
       "        0.10630134, 0.1015146 , 0.10097663, 0.09521479, 0.09468263],\n",
       "       [0.10387702, 0.09689702, 0.0995848 , 0.10235458, 0.09870429,\n",
       "        0.10650934, 0.10129383, 0.10109474, 0.09481244, 0.09487195],\n",
       "       [0.10402571, 0.09724152, 0.09964526, 0.10212923, 0.09842434,\n",
       "        0.10661717, 0.10136421, 0.10094726, 0.09484603, 0.09475928],\n",
       "       [0.10380554, 0.09693942, 0.09952275, 0.10208261, 0.09879418,\n",
       "        0.10639314, 0.10138617, 0.10125206, 0.09507307, 0.09475106],\n",
       "       [0.10421052, 0.09713508, 0.09923604, 0.10211905, 0.09853318,\n",
       "        0.10657397, 0.10145431, 0.10087107, 0.09497083, 0.09489596],\n",
       "       [0.10393657, 0.09722811, 0.09923201, 0.1020298 , 0.09867233,\n",
       "        0.10665637, 0.10143144, 0.10102892, 0.09482099, 0.09496346],\n",
       "       [0.10418885, 0.09716489, 0.09958734, 0.10212155, 0.09885445,\n",
       "        0.10653292, 0.10148455, 0.10073346, 0.09476708, 0.09456491],\n",
       "       [0.10417147, 0.09720243, 0.09938936, 0.10211278, 0.09868993,\n",
       "        0.10635474, 0.10165098, 0.10104332, 0.09462965, 0.09475535],\n",
       "       [0.10349641, 0.09677492, 0.09910597, 0.10228191, 0.09911634,\n",
       "        0.10634569, 0.10165111, 0.10111405, 0.09506879, 0.09504482],\n",
       "       [0.10394494, 0.09717735, 0.09919694, 0.10254732, 0.09872643,\n",
       "        0.10642139, 0.10145764, 0.10104504, 0.09471946, 0.09476349],\n",
       "       [0.10376648, 0.0970383 , 0.09936938, 0.10207107, 0.09884602,\n",
       "        0.10667423, 0.10135392, 0.10076197, 0.09505757, 0.09506107],\n",
       "       [0.10391099, 0.09735634, 0.09918657, 0.10224752, 0.09852764,\n",
       "        0.10642074, 0.10116263, 0.10132822, 0.09495017, 0.09490918],\n",
       "       [0.1037832 , 0.09732631, 0.09924719, 0.10213526, 0.09882759,\n",
       "        0.10625007, 0.10140399, 0.10111466, 0.0950245 , 0.09488722],\n",
       "       [0.10402805, 0.09705263, 0.09904619, 0.10242356, 0.09881985,\n",
       "        0.10649589, 0.10167813, 0.10118373, 0.0945343 , 0.09473767],\n",
       "       [0.10382648, 0.09725244, 0.09951843, 0.10192148, 0.09870769,\n",
       "        0.10632392, 0.10171596, 0.10095203, 0.09477314, 0.09500842],\n",
       "       [0.10433417, 0.09698794, 0.09978313, 0.10211815, 0.09849636,\n",
       "        0.10682015, 0.10145557, 0.10084136, 0.09460348, 0.09455968],\n",
       "       [0.1040572 , 0.09705957, 0.09882336, 0.1023375 , 0.09876919,\n",
       "        0.10686419, 0.1013408 , 0.10110721, 0.09484189, 0.0947991 ]])"
      ]
     },
     "execution_count": 42,
     "metadata": {},
     "output_type": "execute_result"
    }
   ],
   "source": [
    "x = np.random.rand(100, 784) # 伪输入数据（100笔）\n",
    "y = net.predict(x)\n",
    "y"
   ]
  },
  {
   "cell_type": "code",
   "execution_count": 43,
   "metadata": {},
   "outputs": [
    {
     "name": "stdout",
     "output_type": "stream",
     "text": [
      "(784, 100)\n",
      "(100,)\n",
      "(100, 10)\n",
      "(10,)\n"
     ]
    }
   ],
   "source": [
    "x = np.random.rand(100, 784) # 伪输入数据（100笔）\n",
    "t = np.random.rand(100, 10) # 伪正确解标签（100笔）\n",
    "grads = net.numerical_gradient(x, t) # 计算梯度\n",
    "print(grads['W1'].shape) # (784, 100)\n",
    "print(grads['b1'].shape) # (100,)\n",
    "print(grads['W2'].shape) # (100, 10)\n",
    "print(grads['b2'].shape) # (10,)"
   ]
  },
  {
   "attachments": {},
   "cell_type": "markdown",
   "metadata": {},
   "source": [
    "### mini-batch的实现"
   ]
  },
  {
   "cell_type": "code",
   "execution_count": 1,
   "metadata": {},
   "outputs": [],
   "source": [
    "import numpy as np\n",
    "from dataset.mnist import load_mnist\n",
    "from two_layer_net import TwoLayerNet\n",
    "\n",
    "(x_train, t_train), (x_test, t_test) = load_mnist(normalize=True, one_hot_label = True)\n",
    "train_loss_list = []\n",
    "\n",
    "# 超参数\n",
    "iters_num = 1000\n",
    "train_size = x_train.shape[0]\n",
    "batch_size = 100\n",
    "learning_rate = 0.1\n",
    "\n",
    "network = TwoLayerNet(input_size=784, hidden_size=50, output_size=10)\n",
    "\n",
    "for i in range(iters_num):\n",
    "    # 获取mini-batch\n",
    "    batch_mask = np.random.choice(train_size, batch_size)\n",
    "    x_batch = x_train[batch_mask]\n",
    "    t_batch = t_train[batch_mask]\n",
    "\n",
    "    # 计算梯度\n",
    "    grad = network.numerical_gradient(x_batch, t_batch)\n",
    "    # grad = network.gradient(x_batch, t_batch) # 高速版!\n",
    "\n",
    "    # 更新参数\n",
    "    for key in ('W1', 'b1', 'W2', 'b2'):\n",
    "        network.params[key] -= learning_rate * grad[key]\n",
    "\n",
    "    # 记录学习过程\n",
    "    loss = network.loss(x_batch, t_batch)\n",
    "    train_loss_list.append(loss)"
   ]
  },
  {
   "cell_type": "code",
   "execution_count": 3,
   "metadata": {},
   "outputs": [
    {
     "name": "stdout",
     "output_type": "stream",
     "text": [
      "train acc, test acc | 0.09875, 0.098\n",
      "train acc, test acc | 0.09875, 0.098\n",
      "train acc, test acc | 0.11236666666666667, 0.1135\n",
      "train acc, test acc | 0.11236666666666667, 0.1135\n"
     ]
    }
   ],
   "source": [
    "import numpy as np\n",
    "from dataset.mnist import load_mnist\n",
    "from two_layer_net import TwoLayerNet\n",
    "\n",
    "(x_train, t_train), (x_test, t_test) = load_mnist(normalize=True, one_hot_label = True)\n",
    "train_loss_list = []\n",
    "train_acc_list = []\n",
    "test_acc_list = []\n",
    "\n",
    "# 超参数\n",
    "iters_num = 10000\n",
    "train_size = x_train.shape[0]\n",
    "batch_size = 100\n",
    "learning_rate = 0.1\n",
    "\n",
    "# 平均每个epoch的重复次数\n",
    "iter_per_epoch = max(train_size / batch_size, 1)\n",
    "\n",
    "network = TwoLayerNet(input_size=784, hidden_size=50, output_size=10)\n",
    "\n",
    "for i in range(iters_num):\n",
    "    # 获取mini-batch\n",
    "    batch_mask = np.random.choice(train_size, batch_size)\n",
    "    x_batch = x_train[batch_mask]\n",
    "    t_batch = t_train[batch_mask]\n",
    "\n",
    "    # 计算梯度\n",
    "    grad = network.numerical_gradient(x_batch, t_batch)\n",
    "    # grad = network.gradient(x_batch, t_batch) # 高速版!\n",
    "\n",
    "    # 更新参数\n",
    "    for key in ('W1', 'b1', 'W2', 'b2'):\n",
    "        network.params[key] -= learning_rate * grad[key]\n",
    "        loss = network.loss(x_batch, t_batch)\n",
    "        train_loss_list.append(loss)\n",
    "\n",
    "        # 计算每个epoch的识别精度\n",
    "        if i % iter_per_epoch == 0:\n",
    "            train_acc = network.accuracy(x_train, t_train)\n",
    "            test_acc = network.accuracy(x_test, t_test)\n",
    "            train_acc_list.append(train_acc)\n",
    "            test_acc_list.append(test_acc)\n",
    "            print(\"train acc, test acc | \" + str(train_acc) + \", \" + str(test_acc))"
   ]
  },
  {
   "cell_type": "code",
   "execution_count": null,
   "metadata": {},
   "outputs": [],
   "source": []
  }
 ],
 "metadata": {
  "kernelspec": {
   "display_name": "Python 3",
   "language": "python",
   "name": "python3"
  },
  "language_info": {
   "codemirror_mode": {
    "name": "ipython",
    "version": 3
   },
   "file_extension": ".py",
   "mimetype": "text/x-python",
   "name": "python",
   "nbconvert_exporter": "python",
   "pygments_lexer": "ipython3",
   "version": "3.11.3"
  },
  "orig_nbformat": 4
 },
 "nbformat": 4,
 "nbformat_minor": 2
}
